{
 "cells": [
  {
   "cell_type": "markdown",
   "id": "2f5d0e78-b109-46f8-abc7-01a9c35ba8c7",
   "metadata": {},
   "source": [
    "# Reproduce HRP paper figures"
   ]
  },
  {
   "cell_type": "markdown",
   "id": "51239e04-8d01-4a2e-88eb-2b708ad06fc0",
   "metadata": {},
   "source": [
    "This notebook performs analyses described in the "
   ]
  },
  {
   "cell_type": "markdown",
   "id": "caead9ae-47cd-4063-8a66-b8c15bccf0c8",
   "metadata": {},
   "source": [
    "**Manuscript:**\n",
    "\n",
    "Direct fitting improves the accuracy of the horse radish peroxidase competition assay for peroxidase activity"
   ]
  },
  {
   "cell_type": "markdown",
   "id": "20429705-fff3-4461-ab0b-499e3b32a0c4",
   "metadata": {},
   "source": [
    "**Authors:**\n",
    "\n",
    "C. Barry, C. Pillay, J. Rohwer"
   ]
  },
  {
   "cell_type": "markdown",
   "id": "422f3ee2-d363-4e39-907e-5e4d005f9c58",
   "metadata": {},
   "source": [
    "**Purpose:**\n",
    "\n",
    "Simulation and analysis of HRP competition assays\n",
    "\n",
    "Analysis of Ogusucu 2007 Fig.2 data\n",
    "\n",
    "Analysis of Manta 2009 Fig.2 data\n",
    "\n",
    "Plots: Figures 1, 2, 3, S1, and S2"
   ]
  },
  {
   "cell_type": "markdown",
   "id": "5e0cb74a-3967-4870-a89c-46cd8bde4abe",
   "metadata": {},
   "source": [
    "**Requirements:**\n",
    "\n",
    "Python libraries (see **Imports** below)\n",
    "\n",
    "Data digitized from from Ogusucu 2007\n",
    "\n",
    "Data digitized from from Manta 2009\n"
   ]
  },
  {
   "cell_type": "markdown",
   "id": "8430e211",
   "metadata": {},
   "source": [
    "##### Imports"
   ]
  },
  {
   "cell_type": "code",
   "execution_count": null,
   "id": "237a58ff",
   "metadata": {
    "ExecuteTime": {
     "end_time": "2023-07-11T10:55:29.591444Z",
     "start_time": "2023-07-11T10:55:24.780300Z"
    }
   },
   "outputs": [],
   "source": [
    "import os\n",
    "import copy\n",
    "import math\n",
    "import csv\n",
    "\n",
    "import numpy as np\n",
    "from matplotlib import pyplot as plt\n",
    "from sklearn.linear_model import LinearRegression\n",
    "from scipy.interpolate import interp1d\n",
    "from lmfit import minimize, Parameters, Parameter, report_fit\n",
    "from scipy.integrate import solve_ivp\n",
    "import pandas as pd\n"
   ]
  },
  {
   "cell_type": "markdown",
   "id": "3642952e",
   "metadata": {},
   "source": [
    "##### directories"
   ]
  },
  {
   "cell_type": "code",
   "execution_count": null,
   "id": "7d47b1a9",
   "metadata": {
    "ExecuteTime": {
     "end_time": "2023-07-11T10:55:29.607889Z",
     "start_time": "2023-07-11T10:55:29.595951Z"
    }
   },
   "outputs": [],
   "source": [
    "prev_dir = os.path.split(os.getcwd())[0]\n",
    "    \n",
    "fig_dir = os.path.join(prev_dir,\"figures\")\n",
    "if not os.path.isdir(fig_dir): os.mkdir(fig_dir) # ensure dir exists\n",
    "\n",
    "data_dir = os.path.join(prev_dir,\"digitized_data\")\n",
    "if not os.path.isdir(data_dir): os.mkdir(data_dir) # ensure dir exists\n"
   ]
  },
  {
   "cell_type": "markdown",
   "id": "69dc78c3",
   "metadata": {},
   "source": [
    "##### Matplotlib parameters"
   ]
  },
  {
   "cell_type": "code",
   "execution_count": null,
   "id": "1356caf4",
   "metadata": {
    "ExecuteTime": {
     "end_time": "2023-07-11T10:55:29.638196Z",
     "start_time": "2023-07-11T10:55:29.611239Z"
    }
   },
   "outputs": [],
   "source": [
    "%matplotlib inline\n",
    "\n",
    "mpl_width = 4.5\n",
    "mpl_height = 3.5\n",
    "mpl_dpi = 600\n",
    "mpl_xlabel_fontsize = \"large\"\n",
    "mpl_ylabel_fontsize = \"large\"\n",
    "mu = \"\\u03bc\"\n",
    "\n",
    "mpl_width_squarefig = 3.0\n",
    "mpl_height_squarefig = 3.0"
   ]
  },
  {
   "cell_type": "markdown",
   "id": "b033ecc3",
   "metadata": {},
   "source": [
    "## Functions"
   ]
  },
  {
   "cell_type": "code",
   "execution_count": null,
   "id": "de89cf46",
   "metadata": {
    "ExecuteTime": {
     "end_time": "2023-07-11T10:55:29.678953Z",
     "start_time": "2023-07-11T10:55:29.641482Z"
    }
   },
   "outputs": [],
   "source": [
    "def do_HRP_exp(mod,\n",
    "               Prx_init_range,\n",
    "               noise_scale=0,\n",
    "               assay_end=0.1,\n",
    "               data_traces=False,\n",
    "               assay_points=100):\n",
    "    \"\"\"\n",
    "    Performs a HRP experiment by simulating HRP traces and processing the data.\n",
    "    Requires \"a_factor\" as a GLOBAL \n",
    "    \"\"\"\n",
    "        \n",
    "    # HRP-only trace (Prx=0)\n",
    "    trace_HRP_only = do_HRP_trace(mod,\"Prx_init\",0,noise_scale=noise_scale,end_time=assay_end)\n",
    "    \n",
    "    # Assay traces\n",
    "    vary = \"Prx_init\"\n",
    "    if type(data_traces) != bool:     # Simulate at same time points as exp\n",
    "        traces = list(map(lambda Prx_init,data_trace: do_HRP_trace(mod, \n",
    "                                                                    vary,\n",
    "                                                                    Prx_init,\n",
    "                                                                    noise_scale=noise_scale,\n",
    "                                                                    end_time=assay_end,\n",
    "                                                                    time_points=data_trace[:,0],\n",
    "                                                                    points=assay_points),\n",
    "                         Prx_init_range,\n",
    "                         data_traces[1:]))\n",
    "    else:\n",
    "        traces = list(map(lambda Prx_init: do_HRP_trace(mod, \n",
    "                                                        vary,\n",
    "                                                        Prx_init,\n",
    "                                                        noise_scale=noise_scale,\n",
    "                                                        end_time=assay_end,\n",
    "                                                        points=assay_points),\n",
    "                         Prx_init_range))\n",
    "\n",
    "    # Calculate fraction inhibition\n",
    "    f_inhi = list(map(lambda trace: calc_f_inhi(trace,trace_HRP_only,mod),traces))\n",
    "    f_inhi = np.array((Prx_init_range,f_inhi)).transpose()\n",
    "    \n",
    "    # fit rate constant to fraction inhibition\n",
    "    f_inhi_lm = LinearRegression().fit(f_inhi[:,0].reshape(-1,1),f_inhi[:,1])\n",
    "    rate_constant = f_inhi_lm.coef_[0]\n",
    "    \n",
    "    # Add HRP-only trace to data\n",
    "    traces.insert(0,trace_HRP_only)\n",
    "    \n",
    "    return (traces,f_inhi,f_inhi_lm,rate_constant)\n",
    "\n",
    "def do_HRP_exp_vary_2(mod,\n",
    "                        vary_param_name,\n",
    "                        vary_param_range,\n",
    "                        Prx_init_range):\n",
    "    \"\"\"\n",
    "    Performs several HRP experiments by varying a parameter, simulating HRP traces and processing the data.\n",
    "    Requires \"a_factor\" as a GLOBAL \n",
    "    \"\"\"\n",
    "    # Data array\n",
    "    lm_param_data = np.zeros((len(vary_param_range),5))\n",
    "    \n",
    "    for count,param_init in enumerate(vary_param_range):\n",
    "        setattr(mod,vary_param_name,param_init)\n",
    "        HRP_exp = do_HRP_exp(mod, \n",
    "                             Prx_init_range,\n",
    "                             assay_end=assay_end)\n",
    "\n",
    "        # Grab data\n",
    "        lm = HRP_exp[2]\n",
    "        lm_param_data[count,0] = param_init\n",
    "        lm_param_data[count,1] = lm.coef_[0] # coef\n",
    "        lm_param_data[count,2] = (lm.coef_[0]-param_init)/param_init  # overestimation\n",
    "        lm_param_data[count,3] = -lm.intercept_/lm.coef_[0] # x intercept\n",
    "        lm_param_data[count,4] = lm.intercept_ # y intercept\n",
    "        \n",
    "    return lm_param_data\n",
    "\n",
    "def do_HRP_trace(mod,\n",
    "                vary,\n",
    "                vary_init,\n",
    "                noise_scale=0,\n",
    "                time_points=False,\n",
    "                end_time=0.1,\n",
    "                points=100):\n",
    "    \"\"\"\n",
    "    Simulates a HRP assay trace.\n",
    "    Requires \"a_factor\" as a GLOBAL \n",
    "    \"\"\"\n",
    "    \n",
    "    # Set expicit experimental concentration\n",
    "    vary_orig = getattr(mod,vary)\n",
    "    setattr(mod,vary,vary_init)\n",
    "    \n",
    "    # Do Sim (check if time array was supplied)\n",
    "    if type(time_points) != bool:\n",
    "        time_points = time_points\n",
    "    else:\n",
    "        time_points = np.linspace(0,end_time,points)\n",
    "    mod.sim_time = time_points\n",
    "    mod.Simulate(userinit=1)\n",
    "    \n",
    "    # Grab data\n",
    "    assay_time = mod.sim[\"Time\"]\n",
    "    assay_absorbance = mod.sim[\"compound_I\"]*a_factor\n",
    "    noise = np.random.normal(0,noise_scale,mod.sim[\"compound_I\"].shape)\n",
    "    assay_absorbance = assay_absorbance+noise\n",
    "    trace = np.array((assay_time,assay_absorbance)).transpose()\n",
    "\n",
    "    return trace\n",
    "    \n",
    "def calc_f_inhi(trace, trace_HRP_only, mod):\n",
    "    \"\"\"\n",
    "    Calculates the fractional inhibition of an HRP trace.\n",
    "    \"\"\"\n",
    "    # Takes the mean of the last 10% of points in order to account for noise\n",
    "    delta_max = trace_HRP_only[-math.floor(len(trace_HRP_only)/10):,1].mean()\n",
    "    delta_obs = trace[-math.floor(len(trace)/10):,1].mean()\n",
    "    k_HRP = getattr(mod,\"k_HRP\")\n",
    "    HRP_init = getattr(mod,\"HRP_init\")\n",
    "    f_inhi = k_HRP*HRP_init*((delta_max - delta_obs)/delta_obs)\n",
    "    return f_inhi\n",
    "\n",
    "def calc_a_factor(e_compound_I=-5.4*10**4,c=10**(-6),l=1):\n",
    "    \"\"\"\n",
    "    c = 10**(-6) # Analysis is in micro Molar\n",
    "    l = 1 # Light path of reader\n",
    "    e_compound_I = -5.4*10**4 # HRP breaks down into compound_I which is measured spectrophotometrically\n",
    "    \"\"\"\n",
    "    a_factor = e_compound_I * c * l # A per umol HRP (or Compound_I)\n",
    "    return a_factor\n",
    "\n",
    "def res_HRP_exp(params, mod, SH_init_range, data_traces):\n",
    "    \"\"\"\n",
    "    A residual function used for fitting 'k_Prx' in an HRP assay model.\n",
    "    Simulates HRP assay traces under the same conditions as the data traces and finds the residual.\n",
    "    \"\"\"\n",
    "    # Update model\n",
    "    mod.k_Prx = params['k_Prx'].value\n",
    "\n",
    "    # HRP-only trace (Prx=0)\n",
    "    data_HRP_only = data_traces[0]\n",
    "    trace_HRP_only = do_HRP_trace(mod,\"Prx_init\",0,time_points=data_HRP_only[:,0])\n",
    "\n",
    "    # Assay traces\n",
    "    vary = \"Prx_init\"\n",
    "    sim_traces = list(map(lambda Prx_init,data_trace: do_HRP_trace(mod, \n",
    "                                                    vary,\n",
    "                                                    Prx_init,\n",
    "                                                    time_points=data_trace[:,0]),\n",
    "                      SH_init_range,\n",
    "                      data_traces[1:]))\n",
    "\n",
    "    sim_traces.insert(0,trace_HRP_only)\n",
    "\n",
    "    residuals = abs(np.vstack(sim_traces[1:])-np.vstack(data_traces[1:]))\n",
    "    \n",
    "    # Check that time points align\n",
    "    t_array_diff = residuals[:,0]>0.00001\n",
    "    if True in t_array_diff:\n",
    "        print(\"Warning: sim and data time arrays don't align\")\n",
    "        \n",
    "    return residuals[:,1]\n"
   ]
  },
  {
   "cell_type": "markdown",
   "id": "fc178e14",
   "metadata": {},
   "source": [
    "## Initialize model"
   ]
  },
  {
   "cell_type": "code",
   "execution_count": null,
   "id": "cfddf7a5-577d-40fa-91fe-cb296c9899bd",
   "metadata": {},
   "outputs": [],
   "source": [
    "class HRP_model:\n",
    "    \"\"\"\n",
    "    Class to set up the HRP assay model.\n",
    "    \"\"\"\n",
    "\n",
    "    def __init__(self, k_Prx=17.0, k_HRP=17.0, H2O2_init=4, Prx_init=5, HRP_init=10, compound_I_init=0):\n",
    "        self.k_Prx = k_Prx\n",
    "        self.k_HRP = k_HRP\n",
    "        self.H2O2_init = H2O2_init\n",
    "        self.Prx_init = Prx_init\n",
    "        self.HRP_init = HRP_init\n",
    "        self.compound_I_init = compound_I_init\n",
    "\n",
    "    def _dydt(self, t, y, k_HRP, k_Prx):\n",
    "        # y = (HRP, Prx, H2O2, compound_I)\n",
    "        v0 = k_HRP * y[0] * y[2]      # v_HRP\n",
    "        v1 = k_Prx * y[1] * y[2]      # v_Prx\n",
    "        dHRPdt = -v0\n",
    "        dPrxdt = -v1\n",
    "        dH2O2dt = -v0 - v1\n",
    "        dcompound_Idt = v0\n",
    "        return [dHRPdt, dPrxdt, dH2O2dt, dcompound_Idt]\n",
    "\n",
    "    def Simulate(self, time_points=None, userinit=0):\n",
    "        if userinit == 1:\n",
    "            assert hasattr(self, 'sim_time'), \"Time points must be specified as mod.sim_time\"\n",
    "            time_points = self.sim_time\n",
    "        y0 = [self.HRP_init, self.Prx_init, self.H2O2_init, self.compound_I_init]\n",
    "        t_span = (0, time_points.max())\n",
    "        sol = solve_ivp(\n",
    "            self._dydt,\n",
    "            t_span,\n",
    "            y0,\n",
    "            t_eval=time_points,\n",
    "            args=(self.k_HRP, self.k_Prx),\n",
    "            atol=1e-12,\n",
    "            rtol=1e-10,\n",
    "            method=\"LSODA\",\n",
    "        )\n",
    "        self.sol = sol\n",
    "        v0 = self.k_HRP * sol.y[0] * sol.y[2]      # v_HRP\n",
    "        v1 = self.k_Prx * sol.y[1] * sol.y[2]      # v_Prx\n",
    "        sim = np.hstack((sol.t.reshape(len(sol.t), 1), sol.y.T, np.vstack((v0, v1)).T))\n",
    "        self.sim = pd.DataFrame(\n",
    "            sim, columns=['Time', 'HRP', 'Prx', 'H2O2', 'compound_I', 'v0', 'v1']\n",
    "        )"
   ]
  },
  {
   "cell_type": "code",
   "execution_count": null,
   "id": "5285ef71-8055-4048-993d-3337756d17e5",
   "metadata": {},
   "outputs": [],
   "source": [
    "# initialize HRP Prx model\n",
    "mod_HRP_Prx = HRP_model()"
   ]
  },
  {
   "cell_type": "markdown",
   "id": "ac6d9a5e",
   "metadata": {},
   "source": [
    "## Fractional inhibition analysis with simulated data (Figure 1a,b,c)"
   ]
  },
  {
   "cell_type": "code",
   "execution_count": null,
   "id": "57008084",
   "metadata": {
    "ExecuteTime": {
     "end_time": "2023-07-11T10:55:29.786115Z",
     "start_time": "2023-07-11T10:55:29.778440Z"
    }
   },
   "outputs": [],
   "source": [
    "generic_SH_init_range = np.linspace(mod_HRP_Prx.HRP_init/2.5,mod_HRP_Prx.HRP_init*2,5)\n"
   ]
  },
  {
   "cell_type": "code",
   "execution_count": null,
   "id": "73674eba",
   "metadata": {
    "ExecuteTime": {
     "end_time": "2023-07-11T10:55:30.567791Z",
     "start_time": "2023-07-11T10:55:29.790442Z"
    }
   },
   "outputs": [],
   "source": [
    "# Data analysis\n",
    "\n",
    "# Assay params\n",
    "assay_end = 0.1\n",
    "a_factor = calc_a_factor()\n",
    "SH_init_range = generic_SH_init_range\n",
    "time_points = np.linspace(0,assay_end,501)\n",
    "\n",
    "# Setup model\n",
    "mod = copy.deepcopy(mod_HRP_Prx)\n",
    "\n",
    "# HRP assay with kHRP of 0.22\n",
    "low_k_HRP = 0.22\n",
    "setattr(mod,\"k_Prx\", low_k_HRP)\n",
    "HRP_exp_kHRPlow = do_HRP_exp(mod, SH_init_range,assay_end=assay_end)\n",
    "\n",
    "# HRP assay with kHRP of 17\n",
    "setattr(mod,\"k_Prx\", 17)\n",
    "HRP_exp_kHRP17 = do_HRP_exp(mod, SH_init_range,assay_end=assay_end)\n",
    "\n",
    "# HRP assay with kHRP of 110\n",
    "high_k_HRP = 110\n",
    "setattr(mod,\"k_Prx\", high_k_HRP)\n",
    "HRP_exp_kHRPhigh = do_HRP_exp(mod, SH_init_range,assay_end=assay_end)"
   ]
  },
  {
   "cell_type": "code",
   "execution_count": null,
   "id": "0f96e611",
   "metadata": {
    "ExecuteTime": {
     "end_time": "2023-07-11T10:55:31.767189Z",
     "start_time": "2023-07-11T10:55:30.574758Z"
    }
   },
   "outputs": [],
   "source": [
    "# Plot traces\n",
    "\n",
    "# Assign data\n",
    "HRP_traces = HRP_exp_kHRP17[0]\n",
    "\n",
    "# Plot\n",
    "f, axarr = plt.subplots(1, 1)\n",
    "f.set_size_inches(w=mpl_width,h=mpl_height)\n",
    "\n",
    "axarr.plot(HRP_traces[0][:,0], HRP_traces[0][:,1],color=\"dimgrey\",label=\"0\") \n",
    "\n",
    "for count,trace in enumerate(HRP_traces[1:]):\n",
    "    axarr.plot(trace[:,0], \n",
    "               trace[:,1], \n",
    "               label=f\"{SH_init_range[count]}\")\n",
    "\n",
    "axarr.set_xlabel(\"Time (s)\", fontsize=mpl_xlabel_fontsize)\n",
    "axarr.set_ylabel(\"Absorbance (403 nm)\",fontsize=mpl_ylabel_fontsize)\n",
    "\n",
    "axarr.legend(title=f\"Prx ({mu}M)\",ncols=3,columnspacing=1,loc=\"upper right\")\n",
    "f.tight_layout()\n",
    "\n",
    "f.savefig(os.path.join(fig_dir,\"hrp_abs403_vs_time.pdf\"),dpi=mpl_dpi)\n"
   ]
  },
  {
   "cell_type": "code",
   "execution_count": null,
   "id": "28a373e4",
   "metadata": {
    "ExecuteTime": {
     "end_time": "2023-07-11T10:55:32.509233Z",
     "start_time": "2023-07-11T10:55:31.773419Z"
    }
   },
   "outputs": [],
   "source": [
    "# Plot d Absorbance\n",
    "\n",
    "# Assign data\n",
    "HRP_traces = HRP_exp_kHRP17[0]\n",
    "HRP_f_inhi = HRP_exp_kHRP17[1]\n",
    "dAbs = list(abs(trace[-math.floor(len(trace)/10):,1].mean()) for trace in HRP_traces)\n",
    "Prx_conc = HRP_f_inhi[:,0].tolist()\n",
    "Prx_conc.insert(0,0)\n",
    "HRP_dAbs = np.array(list(zip(Prx_conc,dAbs)))\n",
    "\n",
    "# Plot\n",
    "f, axarr = plt.subplots(1, 1)\n",
    "f.set_size_inches(w=mpl_width, h=mpl_height)\n",
    "\n",
    "bar_width = HRP_dAbs[:,0].max()/len(HRP_dAbs[:,0])*0.2 \n",
    "\n",
    "plt.bar(HRP_dAbs[:,0], HRP_dAbs[:,1], width=bar_width, align='center') \n",
    "\n",
    "axarr.set_xticks(HRP_dAbs[:,0])\n",
    "axarr.set_xlabel(f\"Prx ({mu}M)\", fontsize=mpl_xlabel_fontsize)\n",
    "axarr.set_ylabel(\"$\\Delta$ Absorbance (403 nm)\",fontsize=mpl_ylabel_fontsize)\n",
    "\n",
    "f.tight_layout()\n",
    "\n",
    "f.savefig(os.path.join(fig_dir,\"hrp_dAbs_vs_Prx.pdf\"),dpi=mpl_dpi)"
   ]
  },
  {
   "cell_type": "code",
   "execution_count": null,
   "id": "2559d397-bc8c-42ac-8f6c-be3a97f0b8ce",
   "metadata": {},
   "outputs": [],
   "source": [
    "# Plot fractional inhibition\n",
    "\n",
    "# Assign data\n",
    "HRP_f_inhi_kHRPlow = HRP_exp_kHRPlow[1]\n",
    "HRP_f_inhi_lm_kHRPlow = HRP_exp_kHRPlow[2]\n",
    "HRP_k_kHRPlow = HRP_exp_kHRPlow[3]\n",
    "\n",
    "HRP_f_inhi_kHRP17 = HRP_exp_kHRP17[1]\n",
    "HRP_f_inhi_lm_kHRP17 = HRP_exp_kHRP17[2]\n",
    "HRP_k_kHRP17 = HRP_exp_kHRP17[3]\n",
    "\n",
    "HRP_f_inhi_kHRPhigh = HRP_exp_kHRPhigh[1]\n",
    "HRP_f_inhi_lm_kHRPhigh = HRP_exp_kHRPhigh[2]\n",
    "HRP_k_kHRPhigh = HRP_exp_kHRPhigh[3]\n",
    "\n",
    "# Plot\n",
    "f, axarr = plt.subplots(1, 1)\n",
    "f.set_size_inches(w=mpl_width,h=mpl_height)\n",
    "\n",
    "plt1 = axarr.plot(HRP_f_inhi_kHRP17[:,0], HRP_f_inhi_kHRP17[:,1], \n",
    "                  \"bo\", \n",
    "                  label=f\"17 gives {HRP_k_kHRP17:.3}\") \n",
    "axarr.plot(np.hstack(([0],HRP_f_inhi_kHRP17[:,0])), \n",
    "           HRP_f_inhi_lm_kHRP17.predict(np.hstack(([0],HRP_f_inhi_kHRP17[:,0])).reshape(-1, 1)),\n",
    "          f\"k-\")\n",
    "\n",
    "plt2 = axarr.plot(HRP_f_inhi_kHRPhigh[:,0], HRP_f_inhi_kHRPhigh[:,1], \n",
    "                  \"go\", \n",
    "                  label=f\"{high_k_HRP} gives {HRP_k_kHRPhigh:.3g}\") \n",
    "axarr.plot(np.hstack(([0],HRP_f_inhi_kHRPhigh[:,0])), \n",
    "           HRP_f_inhi_lm_kHRPhigh.predict(np.hstack(([0],HRP_f_inhi_kHRPhigh[:,0])).reshape(-1, 1)),\n",
    "          f\"k-\")\n",
    "\n",
    "ax2 = axarr.twinx()\n",
    "plt3 = ax2.plot(HRP_f_inhi_kHRPlow[:,0], HRP_f_inhi_kHRPlow[:,1], \n",
    "                \"ro\", \n",
    "                label=f\"{low_k_HRP} gives {HRP_k_kHRPlow:.3}\") \n",
    "ax2.plot(np.hstack(([0],HRP_f_inhi_kHRPlow[:,0])), \n",
    "           HRP_f_inhi_lm_kHRPlow.predict(np.hstack(([0],HRP_f_inhi_kHRPlow[:,0])).reshape(-1, 1)),\n",
    "          f\"k-\")\n",
    "\n",
    "axarr.set_xlabel(f\"[Prx] ({mu}M)\", fontsize=mpl_xlabel_fontsize)\n",
    "axarr.set_ylabel(\"$k\\mathregular{{_{{HRP}}}}$$\\cdot$[HRP]$\\cdot$\\\n",
    "($\\Delta A_{{max}}-\\Delta A_{{obs}}$)/$\\Delta A_{{obs}}$\",\n",
    "                 fontsize=mpl_ylabel_fontsize)\n",
    "\n",
    "ax2.set_ylabel(\" \",fontsize=mpl_ylabel_fontsize)\n",
    "\n",
    "axarr.set_ylim(bottom=0)\n",
    "axarr.set_xlim(left=0)\n",
    "ax2.set_ylim(bottom=0,top=10)\n",
    "\n",
    "## Legend\n",
    "lns = plt1+plt2+plt3\n",
    "labs = [l.get_label() for l in lns]\n",
    "leg = axarr.legend(lns, \n",
    "                   labs, \n",
    "                   frameon=False, \n",
    "                   title=f\"input $k\\mathregular{{_{{Prx}}}}$ to output $k\\mathregular{{_{{Prx}}}}$\")\n",
    "leg._legend_box.align = \"left\"\n",
    "\n",
    "f.tight_layout()\n",
    "\n",
    "f.savefig(os.path.join(fig_dir,\"hrp_f-inhi_vs_Prx_var_kHRP_higher.pdf\"),dpi=mpl_dpi)\n"
   ]
  },
  {
   "cell_type": "code",
   "execution_count": null,
   "id": "0f900355-6c58-4040-8aa5-ce14b98a0544",
   "metadata": {},
   "outputs": [],
   "source": [
    "# R squared\n",
    "precision = '.5f'\n",
    "\n",
    "# kPrx = 0.22\n",
    "print(\"kPrx = 0.22\")\n",
    "frac_inhi_list_low = HRP_exp_kHRPlow[1][:,1]\n",
    "lm_low = HRP_exp_kHRPlow[2]\n",
    "r2 = format(lm_low.score(np.array(SH_init_range).reshape(-1, 1),frac_inhi_list_low),\n",
    "            precision)\n",
    "print(f\"R^2 = {r2}\")\n",
    "slope = format(lm_low.coef_[0], precision)\n",
    "print(f\"slope (k_Prx) = {slope}\")\n",
    "\n",
    "# kPrx = kHRP\n",
    "print(\"\\nkPrx = 17\")\n",
    "frac_inhi_list = HRP_exp_kHRP17[1][:,1]\n",
    "lm = HRP_exp_kHRP17[2]\n",
    "r2 = format(lm.score(np.array(SH_init_range).reshape(-1, 1),frac_inhi_list),\n",
    "            precision)\n",
    "print(f\"R^2 = {r2}\")\n",
    "slope = format(lm.coef_[0], precision)\n",
    "print(f\"slope (k_Prx) = {slope}\")\n",
    "\n",
    "# kPrx = 110\n",
    "print(\"\\nkPrx = 110\")\n",
    "frac_inhi_list_high = HRP_exp_kHRPhigh[1][:,1]\n",
    "lm_high = HRP_exp_kHRPhigh[2]\n",
    "r2 = format(lm_high.score(np.array(SH_init_range).reshape(-1, 1),frac_inhi_list_high),\n",
    "            precision)\n",
    "print(f\"R^2 = {r2}\")\n",
    "slope = format(lm_high.coef_[0], precision)\n",
    "print(f\"slope (k_Prx) = {slope}\")\n",
    "x_int = format(-lm_high.intercept_/lm_high.coef_[0], precision)\n"
   ]
  },
  {
   "cell_type": "markdown",
   "id": "9791e83e",
   "metadata": {},
   "source": [
    "### Mis-estimation (Figure 1d)"
   ]
  },
  {
   "cell_type": "code",
   "execution_count": null,
   "id": "46cf4e68",
   "metadata": {
    "ExecuteTime": {
     "end_time": "2023-07-11T10:55:37.613667Z",
     "start_time": "2023-07-11T10:55:33.354224Z"
    }
   },
   "outputs": [],
   "source": [
    "# Data analysis\n",
    "\n",
    "# Assay params\n",
    "assay_end = 0.5\n",
    "a_factor = calc_a_factor()\n",
    "data_points = 100\n",
    "kPrx_range = np.linspace(0.22,110,data_points)\n",
    "SH_init_range=generic_SH_init_range\n",
    "\n",
    "# Setup model\n",
    "mod = copy.deepcopy(mod_HRP_Prx)\n",
    "\n",
    "# Simulations\n",
    "vary_param_name = \"k_Prx\"\n",
    "vary_param_range = kPrx_range\n",
    "kPrx_In_vs_Out = do_HRP_exp_vary_2(mod,\n",
    "                                    vary_param_name,\n",
    "                                    vary_param_range,\n",
    "                                    SH_init_range)\n",
    "\n",
    "# Fit linear model to k_Prx_In vs k_Prx_Out\n",
    "kPrx_In_vs_Out_lm = LinearRegression().fit(kPrx_In_vs_Out[:,0].reshape(-1,1),\n",
    "                                            kPrx_In_vs_Out[:,1])\n",
    "kPrx_In_vs_Out_grad = kPrx_In_vs_Out_lm.coef_[0]"
   ]
  },
  {
   "cell_type": "code",
   "execution_count": null,
   "id": "e472cbd1-86c7-407c-93c8-34ae0bdee253",
   "metadata": {},
   "outputs": [],
   "source": [
    "# Plot\n",
    "f, axarr = plt.subplots(1, 1)\n",
    "f.set_size_inches(w=mpl_width, h=mpl_height)\n",
    "\n",
    "axarr.plot(kPrx_In_vs_Out[:,0],\n",
    "           kPrx_In_vs_Out[:,2]*100,\n",
    "           linestyle='-')\n",
    "axarr.plot(kPrx_In_vs_Out[:,0],\n",
    "           kPrx_In_vs_Out[:,0]*0,\n",
    "           linestyle = \"--\",\n",
    "           color = \"k\")\n",
    "\n",
    "axarr.set_xlabel(f\"$k\\mathregular{{_{{Prx}}}}$ ($\\mathrm{{ µM^{{{-1}}}\\cdot s^{{{-1}}} }}$)\", \n",
    "                 fontsize=mpl_xlabel_fontsize)\n",
    "axarr.set_ylabel(\"Mis-estimation of $k\\mathregular{{_{{Prx}}}}$ (%)\",\n",
    "                 fontsize=mpl_ylabel_fontsize)\n",
    "\n",
    "f.tight_layout()\n",
    "\n",
    "f.savefig(os.path.join(fig_dir,\"hrp_kPrxOutOverEst_vs_kPrxIn.pdf\"),dpi=mpl_dpi)\n"
   ]
  },
  {
   "cell_type": "markdown",
   "id": "871aa8bb-54ba-432c-bf15-c9bc7697771a",
   "metadata": {},
   "source": [
    "### Varying parameters in the fractional inhibition assay (Figure S1)"
   ]
  },
  {
   "cell_type": "code",
   "execution_count": null,
   "id": "326eda3c-4654-4684-8168-f1c6a3e03bcd",
   "metadata": {},
   "outputs": [],
   "source": [
    "data_points = 250\n",
    "SH_init_range = generic_SH_init_range\n",
    "a_factor = calc_a_factor()\n",
    "range_up = 5\n",
    "range_down = 5\n",
    "\n",
    "# Simulations with vary k_Prx\n",
    "mod = copy.deepcopy(mod_HRP_Prx)\n",
    "vary_param_name = \"k_Prx\"\n",
    "vary_param_range = np.linspace(getattr(mod,vary_param_name)/range_down,\n",
    "                               getattr(mod,vary_param_name)*range_up,\n",
    "                               data_points)\n",
    "HRP_vkPrx_lm_param_data = do_HRP_exp_vary_2(mod,\n",
    "                                            vary_param_name,\n",
    "                                            vary_param_range,\n",
    "                                            SH_init_range)\n",
    "\n",
    "# Simulations with vary k_HRP\n",
    "mod = copy.deepcopy(mod_HRP_Prx)\n",
    "vary_param_name = \"k_HRP\"\n",
    "vary_param_range = np.linspace(getattr(mod,vary_param_name)/range_down,\n",
    "                               getattr(mod,vary_param_name)*range_up,\n",
    "                               data_points)\n",
    "HRP_vkHRP_lm_param_data = do_HRP_exp_vary_2(mod,\n",
    "                                            vary_param_name,\n",
    "                                            vary_param_range,\n",
    "                                            SH_init_range)\n",
    "\n",
    "# Simulations with vary HRP\n",
    "mod = copy.deepcopy(mod_HRP_Prx)\n",
    "vary_param_name = \"HRP_init\"\n",
    "vary_param_range = np.linspace(getattr(mod,vary_param_name)/range_down,\n",
    "                               getattr(mod,vary_param_name)*range_up,\n",
    "                               data_points)\n",
    "HRP_vHRP_lm_param_data = do_HRP_exp_vary_2(mod,\n",
    "                                            vary_param_name,\n",
    "                                            vary_param_range,\n",
    "                                            SH_init_range)\n",
    "\n",
    "# Simulations with vary H2O2\n",
    "mod = copy.deepcopy(mod_HRP_Prx)\n",
    "vary_param_name = \"H2O2_init\"\n",
    "vary_param_range = np.linspace(getattr(mod,vary_param_name)/range_down,\n",
    "                               getattr(mod,vary_param_name)*range_up,\n",
    "                               data_points)\n",
    "HRP_vH2O2_lm_param_data = do_HRP_exp_vary_2(mod,\n",
    "                                            vary_param_name,\n",
    "                                            vary_param_range,\n",
    "                                            SH_init_range)"
   ]
  },
  {
   "cell_type": "code",
   "execution_count": null,
   "id": "334c0993-dc88-496b-940f-f463b2201a9e",
   "metadata": {},
   "outputs": [],
   "source": [
    "# Plot analysis\n",
    "\n",
    "# Assign data\n",
    "lm_data_vkHRP = HRP_vkHRP_lm_param_data\n",
    "lm_data_vHRP = HRP_vHRP_lm_param_data\n",
    "lm_data_vH2O2 = HRP_vH2O2_lm_param_data\n",
    "\n",
    "# Plot\n",
    "cols=3\n",
    "rows=2\n",
    "f, axarr = plt.subplots(rows, cols)\n",
    "f.set_size_inches(w=cols*mpl_width_squarefig+1, h=rows*mpl_height_squarefig)\n",
    "\n",
    "# coef\n",
    "ax = axarr.flat[0]\n",
    "ax.plot(lm_data_vkHRP[:,0], lm_data_vkHRP[:,1])\n",
    "ax.set_ylabel(f\"Calculated $k\\mathregular{{_{{Prx}}}}$ ($\\mathrm{{ µM^{{{-1}}}\\cdot s^{{{-1}}} }}$)\",\n",
    "              fontsize=mpl_ylabel_fontsize)\n",
    "\n",
    "ax = axarr.flat[1]\n",
    "ax.plot(lm_data_vHRP[:,0], lm_data_vHRP[:,1])\n",
    "\n",
    "ax = axarr.flat[2]\n",
    "ax.plot(lm_data_vH2O2[:,0], lm_data_vH2O2[:,1])\n",
    "\n",
    "# x int\n",
    "ax = axarr.flat[3]\n",
    "ax.plot(lm_data_vkHRP[:,0], lm_data_vkHRP[:,2])\n",
    "ax.set_ylabel(f\"x-intercept ({mu}M Prx)\",fontsize=mpl_ylabel_fontsize)\n",
    "ax.set_xlabel(f\"$k\\mathregular{{_{{HRP}}}}$ ($\\mathrm{{ µM^{{{-1}}}\\cdot s^{{{-1}}} }}$)\",\n",
    "              fontsize=mpl_xlabel_fontsize)\n",
    "\n",
    "ax = axarr.flat[4]\n",
    "ax.plot(lm_data_vHRP[:,0], lm_data_vHRP[:,2])\n",
    "ax.set_xlabel(f\"HRP ({mu}M)\",fontsize=mpl_xlabel_fontsize)\n",
    "\n",
    "ax = axarr.flat[5]\n",
    "ax.plot(lm_data_vH2O2[:,0], lm_data_vH2O2[:,2])\n",
    "ax.set_xlabel(f\"H$_2$O$_2$ ({mu}M)\",fontsize=mpl_xlabel_fontsize)\n",
    "\n",
    "f.tight_layout()\n",
    "\n",
    "f.savefig(os.path.join(fig_dir,f\"hrp_lm_params_vs_mod_params.pdf\"),dpi=mpl_dpi)\n"
   ]
  },
  {
   "cell_type": "markdown",
   "id": "6f322290",
   "metadata": {},
   "source": [
    "## Direct fit with simulated data (Figure 2)"
   ]
  },
  {
   "cell_type": "code",
   "execution_count": null,
   "id": "7e31b59e",
   "metadata": {
    "ExecuteTime": {
     "end_time": "2023-07-11T10:55:42.524564Z",
     "start_time": "2023-07-11T10:55:39.153021Z"
    }
   },
   "outputs": [],
   "source": [
    "# Data analysis\n",
    "\n",
    "# Assay params\n",
    "assay_end = 0.1\n",
    "a_factor = calc_a_factor()\n",
    "SH_init_range = generic_SH_init_range\n",
    "\n",
    "# Setup model\n",
    "mod = copy.deepcopy(mod_HRP_Prx)\n",
    "\n",
    "# Generate noisy simulated data\n",
    "noise_scale = 0.003 # estimated visually \n",
    "HRP_exp_noisy = do_HRP_exp(mod, \n",
    "                     SH_init_range,\n",
    "                     noise_scale=noise_scale,\n",
    "                     assay_end=assay_end)\n",
    "\n",
    "# Set up lmfit parameter library object with each parameter to be fitted\n",
    "param_lib = Parameters()\n",
    "param_lib.add('k_Prx',value=1,min=0.0)\n",
    "\n",
    "# fit k_Prx to simulated data\n",
    "fit_kPrx_sim = minimize(res_HRP_exp, param_lib, args=(mod, SH_init_range,HRP_exp_noisy[0]))\n",
    "\n",
    "# HRP assay with fitted k_Prx\n",
    "HRP_exp_fit_kPrx_sim = do_HRP_exp(mod, \n",
    "                             SH_init_range,\n",
    "                             assay_end=assay_end)\n"
   ]
  },
  {
   "cell_type": "code",
   "execution_count": null,
   "id": "33fe75a0",
   "metadata": {
    "ExecuteTime": {
     "end_time": "2023-07-11T10:55:42.537430Z",
     "start_time": "2023-07-11T10:55:42.528771Z"
    }
   },
   "outputs": [],
   "source": [
    "report_fit(fit_kPrx_sim)\n"
   ]
  },
  {
   "cell_type": "code",
   "execution_count": null,
   "id": "d56f1f09",
   "metadata": {
    "ExecuteTime": {
     "end_time": "2023-07-11T10:55:43.352430Z",
     "start_time": "2023-07-11T10:55:42.541989Z"
    }
   },
   "outputs": [],
   "source": [
    "# Plot analysis\n",
    "\n",
    "# Assign data\n",
    "HRP_traces_exp = HRP_exp_noisy[0]\n",
    "HRP_traces_sim = HRP_exp_fit_kPrx_sim[0]\n",
    "\n",
    "# Plot\n",
    "f, axarr = plt.subplots(1, 1)\n",
    "f.set_size_inches(w=mpl_width,h=mpl_height)\n",
    "\n",
    "axarr.plot(HRP_traces_exp[0][:,0],HRP_traces_exp[0][:,1],color=\"dimgrey\",label=\"0\") \n",
    "for count,trace in enumerate(HRP_traces_exp[1:]):\n",
    "    axarr.plot(trace[:,0], \n",
    "               trace[:,1], \n",
    "               label=f\"{SH_init_range[count]}\")\n",
    "\n",
    "for count,trace in enumerate(HRP_traces_sim[1:]):\n",
    "    axarr.plot(trace[:,0], \n",
    "               trace[:,1], \n",
    "                \"k--\")\n",
    "    \n",
    "axarr.set_xlabel(\"Time (s)\", fontsize=mpl_xlabel_fontsize)\n",
    "axarr.set_ylabel(\"Absorbance (403 nm)\",fontsize=mpl_ylabel_fontsize)\n",
    "\n",
    "axarr.legend(title=f\"Prx ({mu}M)\",ncols=3,columnspacing=1,loc=\"upper right\")\n",
    "f.tight_layout()\n",
    "\n",
    "f.savefig(os.path.join(fig_dir,\"hrp_fit_kPrx_to_sim_abs403_vs_time_.pdf\"),dpi=mpl_dpi)\n"
   ]
  },
  {
   "cell_type": "code",
   "execution_count": null,
   "id": "6a3b8074",
   "metadata": {
    "ExecuteTime": {
     "end_time": "2023-07-11T10:57:09.850851Z",
     "start_time": "2023-07-11T10:55:43.358238Z"
    }
   },
   "outputs": [],
   "source": [
    "# Data analysis\n",
    "\n",
    "# Assay params\n",
    "assay_end = 0.5\n",
    "a_factor = calc_a_factor()\n",
    "data_points = 25\n",
    "kPrx_range = np.linspace(mod_HRP_Prx.k_Prx/2.5,mod_HRP_Prx.k_Prx*2.5,data_points)\n",
    "kPrx_range = np.linspace(0.22,110,data_points)\n",
    "SH_init_range=generic_SH_init_range\n",
    "\n",
    "# Setup model\n",
    "mod = copy.deepcopy(mod_HRP_Prx)\n",
    "\n",
    "# Data array\n",
    "kPrx_In_vs_Out = np.zeros((len(kPrx_range),3))\n",
    "\n",
    "# HRP experiments\n",
    "for count,kPrx_In in enumerate(kPrx_range):\n",
    "    setattr(mod,\"k_Prx\",kPrx_In)\n",
    "    HRP_exp = do_HRP_exp(mod, \n",
    "                         SH_init_range,\n",
    "                         assay_end=assay_end)\n",
    "    \n",
    "    # fit k_Prx to real data\n",
    "    param_lib = Parameters()\n",
    "    param_lib.add('k_Prx',value=1,min=0.0)\n",
    "    fit_kPrx_Oguf3a = minimize(res_HRP_exp, param_lib, args=(mod,SH_init_range,HRP_exp[0]))\n",
    "    \n",
    "    kPrx_Out = fit_kPrx_Oguf3a.params[\"k_Prx\"].value\n",
    "    kPrx_Out_OverEst = (kPrx_Out-kPrx_In)/kPrx_Out\n",
    "    kPrx_In_vs_Out[count,0] = kPrx_In\n",
    "    kPrx_In_vs_Out[count,1] = kPrx_Out\n",
    "    kPrx_In_vs_Out[count,2] = kPrx_Out_OverEst\n",
    "\n",
    "# Fit linear model to k_Prx_In vs k_Prx_Out\n",
    "kPrx_In_vs_Out_lm = LinearRegression().fit(kPrx_In_vs_Out[:,0].reshape(-1,1),\n",
    "                                           kPrx_In_vs_Out[:,1])\n",
    "kPrx_In_vs_Out_grad = kPrx_In_vs_Out_lm.coef_[0]"
   ]
  },
  {
   "cell_type": "code",
   "execution_count": null,
   "id": "27bbfcac",
   "metadata": {
    "ExecuteTime": {
     "end_time": "2023-07-11T10:57:10.574192Z",
     "start_time": "2023-07-11T10:57:09.854542Z"
    }
   },
   "outputs": [],
   "source": [
    "# Plot\n",
    "f, axarr = plt.subplots(1, 1)\n",
    "f.set_size_inches(w=mpl_width, h=mpl_height)\n",
    "\n",
    "axarr.plot(kPrx_In_vs_Out[:,0],kPrx_In_vs_Out[:,1],\"o\",label=\"obtained\")\n",
    "axarr.plot(kPrx_In_vs_Out[:,0],kPrx_In_vs_Out[:,0],\"k--\",label=\"identical\")\n",
    "\n",
    "axarr.set_xlabel(f\"Input $k\\mathregular{{_{{Prx}}}}$ ($\\mathrm{{ µM^{{{-1}}}\\cdot s^{{{-1}}} }}$)\", \n",
    "                 fontsize=mpl_xlabel_fontsize)\n",
    "axarr.set_ylabel(f\"Determined $k\\mathregular{{_{{Prx}}}}$ ($\\mathrm{{ µM^{{{-1}}}\\cdot s^{{{-1}}} }}$)\",\n",
    "                 fontsize=mpl_ylabel_fontsize)\n",
    "\n",
    "axarr.legend()\n",
    "f.tight_layout()\n",
    "\n",
    "f.savefig(os.path.join(fig_dir,\"hrp_kPrxIn_vs_kPrxOut_byODE.pdf\"),dpi=mpl_dpi)\n"
   ]
  },
  {
   "cell_type": "markdown",
   "id": "5036cb39",
   "metadata": {
    "ExecuteTime": {
     "end_time": "2023-07-06T13:32:07.851309Z",
     "start_time": "2023-07-06T13:32:07.671900Z"
    }
   },
   "source": [
    "## Analysis of digitized published data"
   ]
  },
  {
   "cell_type": "markdown",
   "id": "83c88bd1-a828-409d-8caf-f25203058ff8",
   "metadata": {},
   "source": [
    "### Ogusucu 2007 (Figure 3)"
   ]
  },
  {
   "cell_type": "code",
   "execution_count": null,
   "id": "7e355c93",
   "metadata": {
    "ExecuteTime": {
     "end_time": "2023-07-11T10:57:10.605167Z",
     "start_time": "2023-07-11T10:57:10.578406Z"
    }
   },
   "outputs": [],
   "source": [
    "# Load experimental data\n",
    "Oguf3a_data_dir = \"Ogusucu_2007_Fig2\"\n",
    "files_in_directory = os.listdir(os.path.join(data_dir,Oguf3a_data_dir))\n",
    "files_in_directory.sort() # Prx=0 will be in pos 0\n",
    "\n",
    "Oguf3a_traces = list()\n",
    "Oguf3a_Prx_init_range = list()\n",
    "for filename in files_in_directory:\n",
    "    if filename[-3:] == \"csv\": # excludes non .csv files\n",
    "        with open(os.path.join(os.path.join(data_dir,Oguf3a_data_dir),filename),\"r\") as csv_file:\n",
    "            csv_gen = (line.replace(\",\", \".\") for line in csv_file) # change comma decimels to period\n",
    "            trace = np.genfromtxt(csv_gen, delimiter=\";\")\n",
    "            trace = trace[trace[:, 0].argsort()]\n",
    "            Oguf3a_traces.append(trace)\n",
    "\n",
    "            # Get Prx init\n",
    "            Oguf3a_Prx_init = filename[-7:-4]\n",
    "            Oguf3a_Prx_init_range.append(float(Oguf3a_Prx_init))\n",
    "\n",
    "Oguf3a_Prx_init_range = Oguf3a_Prx_init_range[1:] # Remove 0.0\n",
    "Oguf3a_Prx_init_range = np.array(Oguf3a_Prx_init_range)\n"
   ]
  },
  {
   "cell_type": "code",
   "execution_count": null,
   "id": "bea20a18-0426-4603-9f9f-07a73b13e054",
   "metadata": {},
   "outputs": [],
   "source": [
    "# Data analysis frac inhi\n",
    "\n",
    "# Assay params\n",
    "HRP_oguf3a = 3.67 # μM\n",
    "H2O2_oguf3a = 1.5 # μM\n",
    "assay_end = 0.1\n",
    "l_oguf3a = 0.85\n",
    "a_factor = calc_a_factor(l=l_oguf3a)\n",
    "kPrx_pub_oguf3a = 13.0 # uM−1.s−1\n",
    "\n",
    "# Setup model\n",
    "mod = copy.deepcopy(mod_HRP_Prx)\n",
    "setattr(mod,\"HRP_init\",HRP_oguf3a)\n",
    "setattr(mod,\"H2O2_init\",H2O2_oguf3a)\n",
    "\n",
    "# This is the same as in do_HRP_exp except the traces are imported\n",
    "traces = Oguf3a_traces[1:]\n",
    "trace_HRP_only = Oguf3a_traces[0]\n",
    "\n",
    "# Calculate fraction inhibition\n",
    "f_inhi = list(map(lambda trace: calc_f_inhi(trace,trace_HRP_only,mod),traces))\n",
    "f_inhi = np.array((Oguf3a_Prx_init_range,f_inhi)).transpose()\n",
    "\n",
    "# fit rate constant to fraction inhibition\n",
    "f_inhi_lm = LinearRegression().fit(f_inhi[:,0].reshape(-1,1),f_inhi[:,1])\n",
    "rate_constant = f_inhi_lm.coef_[0]\n",
    "\n",
    "# Add HRP-only trace to data\n",
    "traces.insert(0,trace_HRP_only)\n",
    "\n",
    "Oguf3a_exp = (traces,f_inhi,f_inhi_lm,rate_constant)\n"
   ]
  },
  {
   "cell_type": "code",
   "execution_count": null,
   "id": "84c80bde",
   "metadata": {
    "ExecuteTime": {
     "end_time": "2023-07-11T10:57:12.723922Z",
     "start_time": "2023-07-11T10:57:10.608243Z"
    }
   },
   "outputs": [],
   "source": [
    "# Data analysis ODE\n",
    "\n",
    "# Assay params\n",
    "HRP_oguf3a = 3.67 # μM\n",
    "H2O2_oguf3a = 1.5 # μM\n",
    "assay_end = 0.1\n",
    "l_oguf3a = 0.85\n",
    "a_factor = calc_a_factor(l=l_oguf3a)\n",
    "kPrx_pub_oguf3a = 13.0 # uM−1.s−1\n",
    "\n",
    "# Setup model\n",
    "mod = copy.deepcopy(mod_HRP_Prx)\n",
    "setattr(mod,\"HRP_init\",HRP_oguf3a)\n",
    "setattr(mod,\"H2O2_init\",H2O2_oguf3a)\n",
    "\n",
    "# HRP assay with published k_Prx\n",
    "setattr(mod,\"k_Prx\",kPrx_pub_oguf3a)\n",
    "HRP_exp_pub_kPrx_Oguf3a = do_HRP_exp(mod, \n",
    "                                     Oguf3a_Prx_init_range,\n",
    "                                     data_traces=Oguf3a_traces,\n",
    "                                     assay_end=assay_end)\n",
    "\n",
    "# fit k_Prx to real data\n",
    "param_lib = Parameters()\n",
    "param_lib.add('k_Prx',value=1,min=0.0)\n",
    "fit_kPrx_Oguf3a = minimize(res_HRP_exp, param_lib, args=(mod,\n",
    "                                                         Oguf3a_Prx_init_range,\n",
    "                                                         Oguf3a_traces))\n",
    "\n",
    "# HRP assay with fitted k_Prx\n",
    "HRP_exp_fit_kPrx_Oguf3a = do_HRP_exp(mod, \n",
    "                             Oguf3a_Prx_init_range,\n",
    "                             data_traces=Oguf3a_traces,\n",
    "                             assay_end=assay_end)\n"
   ]
  },
  {
   "cell_type": "code",
   "execution_count": null,
   "id": "6c067dd9",
   "metadata": {
    "ExecuteTime": {
     "end_time": "2023-07-11T10:57:12.735892Z",
     "start_time": "2023-07-11T10:57:12.727265Z"
    }
   },
   "outputs": [],
   "source": [
    "report_fit(fit_kPrx_Oguf3a)\n"
   ]
  },
  {
   "cell_type": "markdown",
   "id": "6416c512-ae23-44e5-aebe-f042f21c3900",
   "metadata": {},
   "source": [
    "#### Plot model fit with published $k_{Prx}$ of 13 µM<sup>-1</sup>s<sup>-1</sup>"
   ]
  },
  {
   "cell_type": "code",
   "execution_count": null,
   "id": "959ed61a",
   "metadata": {
    "ExecuteTime": {
     "end_time": "2023-07-11T10:57:13.557499Z",
     "start_time": "2023-07-11T10:57:12.740172Z"
    }
   },
   "outputs": [],
   "source": [
    "# Plot analysis\n",
    "\n",
    "# Assign data\n",
    "HRP_traces_exp = Oguf3a_traces\n",
    "HRP_traces_sim = HRP_exp_pub_kPrx_Oguf3a[0]\n",
    "\n",
    "# Plot\n",
    "f, axarr = plt.subplots(1, 1)\n",
    "f.set_size_inches(w=mpl_width,h=mpl_height)\n",
    "\n",
    "axarr.plot(HRP_traces_exp[0][:,0],HRP_traces_exp[0][:,1],color=\"dimgrey\",label=\"0\") \n",
    "for count,trace in enumerate(HRP_traces_exp[1:]):\n",
    "    axarr.plot(trace[:,0], \n",
    "               trace[:,1], \n",
    "               label=f\"{SH_init_range[count]}\")\n",
    "\n",
    "axarr.plot(HRP_traces_sim[0][:,0],HRP_traces_sim[0][:,1],\"k--\") \n",
    "for count,trace in enumerate(HRP_traces_sim[1:]):\n",
    "    axarr.plot(trace[:,0], \n",
    "               trace[:,1], \n",
    "                \"k--\")\n",
    "    \n",
    "axarr.set_xlabel(\"Time (s)\", fontsize=mpl_xlabel_fontsize)\n",
    "axarr.set_ylabel(\"Absorbance (403 nm)\",fontsize=mpl_ylabel_fontsize)\n",
    "\n",
    "axarr.legend(title=f\"Prx ({mu}M)\",ncols=3,columnspacing=1,loc=\"upper right\")\n",
    "f.tight_layout()\n",
    "\n",
    "f.savefig(os.path.join(fig_dir,\"hrp_Ogu_pub_kPrx_abs403_vs_time.pdf\"),dpi=mpl_dpi)\n",
    "\n",
    "# chi square\n",
    "chi_square_ogu = sum((np.vstack(HRP_traces_sim[1:])[:,1]\n",
    "                      -np.vstack(HRP_traces_exp[1:])[:,1])**2)\n",
    "\n",
    "print(chi_square_ogu)\n"
   ]
  },
  {
   "cell_type": "markdown",
   "id": "ac054df8-2ae1-4c6e-84d2-dca0505a858f",
   "metadata": {},
   "source": [
    "#### Plot model fit with direct fitted $k_{Prx}$ of 11.18 µM<sup>-1</sup>s<sup>-1</sup>"
   ]
  },
  {
   "cell_type": "code",
   "execution_count": null,
   "id": "ab5ad67e",
   "metadata": {
    "ExecuteTime": {
     "end_time": "2023-07-11T10:57:14.579296Z",
     "start_time": "2023-07-11T10:57:13.561795Z"
    }
   },
   "outputs": [],
   "source": [
    "# Plot analysis\n",
    "\n",
    "# Assign data\n",
    "HRP_traces_exp = Oguf3a_traces\n",
    "HRP_traces_sim = HRP_exp_fit_kPrx_Oguf3a[0]\n",
    "\n",
    "# Plot\n",
    "f, axarr = plt.subplots(1, 1)\n",
    "f.set_size_inches(w=mpl_width,h=mpl_height)\n",
    "\n",
    "axarr.plot(HRP_traces_exp[0][:,0],HRP_traces_exp[0][:,1],color=\"dimgrey\",label=\"0\") \n",
    "for count,trace in enumerate(HRP_traces_exp[1:]):\n",
    "    axarr.plot(trace[:,0], \n",
    "               trace[:,1], \n",
    "               label=f\"{SH_init_range[count]}\")\n",
    "\n",
    "axarr.plot(HRP_traces_sim[0][:,0],HRP_traces_sim[0][:,1],\"k--\") \n",
    "for count,trace in enumerate(HRP_traces_sim[1:]):\n",
    "    axarr.plot(trace[:,0], \n",
    "               trace[:,1], \n",
    "                \"k--\")\n",
    "    \n",
    "axarr.set_xlabel(\"Time (s)\", fontsize=mpl_xlabel_fontsize)\n",
    "axarr.set_ylabel(\"Absorbance (403 nm)\",fontsize=mpl_ylabel_fontsize)\n",
    "\n",
    "axarr.legend(title=f\"Prx ({mu}M)\",ncols=3,columnspacing=1,loc=\"upper right\")\n",
    "f.tight_layout()\n",
    "\n",
    "f.savefig(os.path.join(fig_dir,\"hrp_Oguf3a_fit_kPrx_abs403_vs_time.pdf\"),dpi=mpl_dpi)\n",
    "\n",
    "# chi square\n",
    "chi_square_ogu = sum((np.vstack(HRP_traces_sim[1:])[:,1]\n",
    "                      -np.vstack(HRP_traces_exp[1:])[:,1])**2)\n",
    "\n",
    "print(chi_square_ogu)\n"
   ]
  },
  {
   "cell_type": "markdown",
   "id": "85e2cfe6",
   "metadata": {},
   "source": [
    "#### Mis-estimation"
   ]
  },
  {
   "cell_type": "code",
   "execution_count": null,
   "id": "3ff1b603",
   "metadata": {
    "ExecuteTime": {
     "end_time": "2023-07-11T10:57:19.474802Z",
     "start_time": "2023-07-11T10:57:14.583339Z"
    }
   },
   "outputs": [],
   "source": [
    "# Data analysis\n",
    "\n",
    "# Assay params\n",
    "assay_end = 0.5\n",
    "a_factor = calc_a_factor()\n",
    "data_points = 100\n",
    "kPrx_range = np.linspace(0.22,110,data_points)\n",
    "SH_init_range=generic_SH_init_range\n",
    "\n",
    "# Setup model\n",
    "mod = copy.deepcopy(mod_HRP_Prx)\n",
    "setattr(mod,\"HRP_init\",HRP_oguf3a)\n",
    "setattr(mod,\"H2O2_init\",H2O2_oguf3a)\n",
    "\n",
    "# Simulations with vary k_Prx\n",
    "vary_param_name = \"k_Prx\"\n",
    "vary_param_range = kPrx_range\n",
    "kPrx_Oguf3a_In_vs_Out = do_HRP_exp_vary_2(mod,\n",
    "                                    vary_param_name,\n",
    "                                    vary_param_range,\n",
    "                                    SH_init_range)\n",
    "\n",
    "# Fit linear model to k_Prx_In vs k_Prx_Out\n",
    "kPrx_Oguf3a_In_vs_Out_lm = LinearRegression().fit(\n",
    "    kPrx_Oguf3a_In_vs_Out[:,0].reshape(-1,1),\n",
    "    kPrx_Oguf3a_In_vs_Out[:,1])\n",
    "kPrx_Oguf3a_In_vs_Out_grad = kPrx_Oguf3a_In_vs_Out_lm.coef_[0]\n",
    "\n",
    "# fit kPrx in Ogusucu to overestimation\n",
    "idx = np.searchsorted(kPrx_range, kPrx_pub_oguf3a, side=\"left\")\n",
    "x_points_fit = [kPrx_Oguf3a_In_vs_Out[:,0][idx-1], kPrx_Oguf3a_In_vs_Out[:,0][idx]]\n",
    "y_points_fit = [kPrx_Oguf3a_In_vs_Out[:,2][idx-1], kPrx_Oguf3a_In_vs_Out[:,2][idx]]\n",
    "lm = interp1d(x_points_fit, y_points_fit)\n",
    "y_intrepolated = lm(kPrx_pub_oguf3a)"
   ]
  },
  {
   "cell_type": "code",
   "execution_count": null,
   "id": "4f3c715b-3c21-428b-9c3f-e9083d33134e",
   "metadata": {},
   "outputs": [],
   "source": [
    "k_Prx_fitted = fit_kPrx_Oguf3a.params[\"k_Prx\"].value\n",
    "k_Prx_overestimation = (kPrx_pub_oguf3a/k_Prx_fitted - 1)*100\n",
    "print(f\"l_oguf3a: {l_oguf3a} cm\")\n",
    "print(f\"k_Prx_fitted: {str(round(k_Prx_fitted,2))}\")\n",
    "print(f\"k_Prx_overestimation: {str(k_Prx_overestimation)[:4]} %\")\n",
    "print(f\"predicted_overestimation: {str(lm(kPrx_pub_oguf3a)*100)[:4]} %\")\n"
   ]
  },
  {
   "cell_type": "markdown",
   "id": "231f9659-b6b1-4b1a-9057-0e5e7eb92580",
   "metadata": {},
   "source": [
    "### Manta 2009 (Figure S2)"
   ]
  },
  {
   "cell_type": "code",
   "execution_count": null,
   "id": "77bffb65-145a-43df-aa7a-1443b2bd2ae3",
   "metadata": {
    "jupyter": {
     "source_hidden": true
    }
   },
   "outputs": [],
   "source": [
    "# Load experimental data\n",
    "Mantaf2a_data_dir = \"Manta_2009_Fig2\"\n",
    "files_in_directory = os.listdir(os.path.join(data_dir,Mantaf2a_data_dir))\n",
    "files_in_directory.sort() # Prx=0 will be in pos 0\n",
    "\n",
    "# Name\n",
    "fig_name_suffix = \"Manta\"\n",
    "\n",
    "# Assay parameters\n",
    "Mantaf2a_Prx_init_range = list()\n",
    "for filename in files_in_directory:\n",
    "    if filename[-3:] == \"csv\": # excludes non .csv files\n",
    "        Mantaf2a_Prx_init = filename[-10:-7]\n",
    "        Mantaf2a_Prx_init_range.append(float(Mantaf2a_Prx_init))\n",
    "\n",
    "exp_Prx_initials = Mantaf2a_Prx_init_range\n",
    "exp_Prx_initials = [float(Prx) for Prx in exp_Prx_initials]\n",
    "exp_HRP_initial = 5.0\n",
    "exp_H2O2_initial = 1.0\n",
    "\n",
    "# Method parameters\n",
    "exp_kHRP = 11.0\n",
    "exp_Abs_nm = \"398\"\n",
    "exp_lightpath = 0.78\n",
    "e_compound_I_Abs_nm = -54000\n",
    "\n",
    "# Data traces\n",
    "Mantaf2a_traces = list()\n",
    "Mantaf2a_Prx_init_range = list()\n",
    "for filename in files_in_directory:\n",
    "    if filename[-3:] == \"csv\": # excludes non .csv files\n",
    "        with open(os.path.join(os.path.join(data_dir,Mantaf2a_data_dir),filename),\"r\") as csv_file:\n",
    "            trace = np.genfromtxt(csv_file, delimiter=\",\")\n",
    "            trace = trace[trace[:, 0].argsort()]\n",
    "            Mantaf2a_traces.append(trace)\n",
    "exp_HRP_traces = Mantaf2a_traces\n"
   ]
  },
  {
   "cell_type": "code",
   "execution_count": null,
   "id": "fabe54f9-d38f-4ded-b42b-2a18fb6f18ca",
   "metadata": {},
   "outputs": [],
   "source": [
    "a_factor = calc_a_factor(e_compound_I=e_compound_I_Abs_nm, l=exp_lightpath)"
   ]
  },
  {
   "cell_type": "code",
   "execution_count": null,
   "id": "1fff7371-1aac-465e-8ae6-74a5095f1de6",
   "metadata": {},
   "outputs": [],
   "source": [
    "# Initialize model\n",
    "mod_HRP_Manta2009 = HRP_model()\n",
    "\n",
    "setattr(mod_HRP_Manta2009, 'HRP_init', exp_HRP_initial)\n",
    "setattr(mod_HRP_Manta2009, 'H2O2_init', exp_H2O2_initial)\n",
    "setattr(mod_HRP_Manta2009, 'k_HRP', exp_kHRP)"
   ]
  },
  {
   "cell_type": "markdown",
   "id": "53e2732e-d77f-449d-adf4-8beaf32ea5ca",
   "metadata": {},
   "source": [
    "#### Direct fit to each trace individually"
   ]
  },
  {
   "cell_type": "code",
   "execution_count": null,
   "id": "fad71ccf-bc42-47ce-945e-f6dcae6d54e1",
   "metadata": {},
   "outputs": [],
   "source": [
    "# Model setup\n",
    "mod_direct_indiv = copy.deepcopy(mod_HRP_Manta2009)"
   ]
  },
  {
   "cell_type": "code",
   "execution_count": null,
   "id": "bbf7422f-c49e-4da0-ad9c-06c23f0b90b5",
   "metadata": {},
   "outputs": [],
   "source": [
    "# Fit\n",
    "direct_fit_indiv_kPrxs = []\n",
    "direct_fit_indiv_stderr = []\n",
    "\n",
    "for count, exp_HRP_trace in enumerate(exp_HRP_traces[1:]):\n",
    "    # setup param lib\n",
    "    param_lib = Parameters()\n",
    "    param_lib.add('k_Prx', value=1, min=0.0)\n",
    "\n",
    "    # do the fit\n",
    "    fit_kPrx = minimize(\n",
    "        res_HRP_exp,\n",
    "        param_lib,\n",
    "        args=(\n",
    "            mod_direct_indiv,\n",
    "            [exp_Prx_initials[1:][count]],\n",
    "            [exp_HRP_traces[0], exp_HRP_trace],\n",
    "        ),\n",
    "    )\n",
    "\n",
    "    # store results\n",
    "    direct_fit_indiv_kPrxs.append(fit_kPrx.params['k_Prx'].value)\n",
    "    direct_fit_indiv_stderr.append(fit_kPrx.params['k_Prx'].stderr)\n"
   ]
  },
  {
   "cell_type": "code",
   "execution_count": null,
   "id": "1147b910-60d0-4857-b046-1239a7788e2e",
   "metadata": {},
   "outputs": [],
   "source": [
    "# Display fitted values\n",
    "print(direct_fit_indiv_kPrxs)"
   ]
  },
  {
   "cell_type": "code",
   "execution_count": null,
   "id": "73dc5942-f474-4ca1-a654-99140a4f83b8",
   "metadata": {},
   "outputs": [],
   "source": [
    "# Simulate data\n",
    "sim_HRP_traces = []\n",
    "vary = \"Prx_init\"\n",
    "\n",
    "for count, kPrx in enumerate(direct_fit_indiv_kPrxs):\n",
    "    setattr(mod_direct_indiv, 'k_Prx', kPrx)\n",
    "\n",
    "    HRP_trace = do_HRP_trace(\n",
    "        mod_direct_indiv,\n",
    "        vary,\n",
    "        exp_Prx_initials[1:][count],\n",
    "        time_points=exp_HRP_traces[1:][count][:, 0],\n",
    "    )\n",
    "\n",
    "    sim_HRP_traces.append(HRP_trace)"
   ]
  },
  {
   "cell_type": "code",
   "execution_count": null,
   "id": "d7c24a5f-8c3c-4d27-a4a1-afc03d90fe1d",
   "metadata": {},
   "outputs": [],
   "source": [
    "# Plot analysis\n",
    "\n",
    "# Assign data\n",
    "HRP_traces_exp = exp_HRP_traces\n",
    "HRP_traces_sim = sim_HRP_traces\n",
    "\n",
    "# Plot\n",
    "f, axarr = plt.subplots(1, 1)\n",
    "f.set_size_inches(w=mpl_width, h=mpl_height)\n",
    "\n",
    "axarr.plot(HRP_traces_exp[0][:, 0], HRP_traces_exp[0][:, 1], color='dimgrey', label='0')\n",
    "for count, trace in enumerate(HRP_traces_exp[1:]):\n",
    "    axarr.plot(trace[:, 0], trace[:, 1], label=f'{exp_Prx_initials[1:][count]}')\n",
    "\n",
    "axarr.plot(HRP_traces_sim[0][:, 0], HRP_traces_sim[0][:, 1], 'k--')\n",
    "for count, trace in enumerate(HRP_traces_sim[1:]):\n",
    "    axarr.plot(trace[:, 0], trace[:, 1], 'k--')\n",
    "\n",
    "axarr.set_xlabel('Time (s)', fontsize=mpl_xlabel_fontsize)\n",
    "axarr.set_ylabel(f'Absorbance ({exp_Abs_nm} nm)', fontsize=mpl_ylabel_fontsize)\n",
    "axarr.legend(title=f'Prx ({mu}M)', ncols=3, columnspacing=1, loc='upper right')\n",
    "\n",
    "f.tight_layout()\n",
    "\n",
    "f.savefig(\n",
    "    os.path.join(fig_dir, f'HRP_direct_ind-fit_traces_{fig_name_suffix}.pdf'),\n",
    "    dpi=mpl_dpi,\n",
    ")\n",
    "\n",
    "# chi square\n",
    "chi_square_dir_indiv = sum((np.vstack(HRP_traces_sim)[:,1]\n",
    "                            -np.vstack(HRP_traces_exp[1:])[:,1])**2)\n",
    "\n",
    "print(chi_square_dir_indiv)"
   ]
  },
  {
   "cell_type": "markdown",
   "id": "caadcaa3-62bd-4c9b-bd6a-dae642c1ffb8",
   "metadata": {},
   "source": [
    "#### Direct fit to all traces simultaneously"
   ]
  },
  {
   "cell_type": "code",
   "execution_count": null,
   "id": "b6a7d29d-83c8-424a-9d55-1b415bba8898",
   "metadata": {},
   "outputs": [],
   "source": [
    "# Model setup\n",
    "mod_direct_all = copy.deepcopy(mod_HRP_Manta2009)"
   ]
  },
  {
   "cell_type": "code",
   "execution_count": null,
   "id": "48726b2a-8fd3-493a-8db5-bca841db4132",
   "metadata": {},
   "outputs": [],
   "source": [
    "# Fit \n",
    "param_lib = Parameters()\n",
    "param_lib.add('k_Prx', value=1, min=0.0)\n",
    "\n",
    "# do the fit\n",
    "fit = minimize(\n",
    "    res_HRP_exp, param_lib, args=(mod_direct_all, exp_Prx_initials[1:], exp_HRP_traces)\n",
    ")\n",
    "\n",
    "# store results\n",
    "direct_fit_whole_kPrx = fit.params['k_Prx'].value\n",
    "direct_fit_whole_stderr = fit.params['k_Prx'].stderr"
   ]
  },
  {
   "cell_type": "code",
   "execution_count": null,
   "id": "99560d1e-737e-4dd7-97d2-c7d2fa782465",
   "metadata": {},
   "outputs": [],
   "source": [
    "report_fit(fit)"
   ]
  },
  {
   "cell_type": "code",
   "execution_count": null,
   "id": "9ab3d277-b57a-4d97-900f-728ef466af16",
   "metadata": {},
   "outputs": [],
   "source": [
    "# Simulate traces with fitted k_Prx\n",
    "setattr(mod_direct_all, 'k_Prx', direct_fit_whole_kPrx)\n",
    "vary = \"Prx_init\"\n",
    "\n",
    "sim_HRP_traces = []\n",
    "\n",
    "for count, SH_init in enumerate(exp_Prx_initials[1:]):\n",
    "\n",
    "    HRP_trace = do_HRP_trace(\n",
    "        mod_direct_all,\n",
    "        vary,\n",
    "        exp_Prx_initials[1:][count],\n",
    "        time_points=exp_HRP_traces[1:][count][:, 0],\n",
    "    )\n",
    "\n",
    "    sim_HRP_traces.append(HRP_trace)"
   ]
  },
  {
   "cell_type": "code",
   "execution_count": null,
   "id": "a492f7f0-8ba7-4100-91e8-e5230454deeb",
   "metadata": {},
   "outputs": [],
   "source": [
    "# Plot analysis\n",
    "\n",
    "# Assign data\n",
    "HRP_traces_exp = exp_HRP_traces\n",
    "HRP_traces_sim = sim_HRP_traces\n",
    "\n",
    "# Plot\n",
    "f, axarr = plt.subplots(1, 1)\n",
    "f.set_size_inches(w=mpl_width, h=mpl_height)\n",
    "\n",
    "axarr.plot(HRP_traces_exp[0][:, 0], HRP_traces_exp[0][:, 1], color='dimgrey', label='0')\n",
    "for count, trace in enumerate(HRP_traces_exp[1:]):\n",
    "    axarr.plot(trace[:, 0], trace[:, 1], label=f'{exp_Prx_initials[1:][count]}')\n",
    "\n",
    "axarr.plot(HRP_traces_sim[0][:, 0], HRP_traces_sim[0][:, 1], 'k--')\n",
    "for count, trace in enumerate(HRP_traces_sim[1:]):\n",
    "    axarr.plot(trace[:, 0], trace[:, 1], 'k--')\n",
    "\n",
    "axarr.set_xlabel('Time (s)', fontsize=mpl_xlabel_fontsize)\n",
    "axarr.set_ylabel(f'Absorbance ({exp_Abs_nm} nm)', fontsize=mpl_ylabel_fontsize)\n",
    "axarr.legend(title=f'Prx ({mu}M)', ncols=3, columnspacing=1, loc='upper right')\n",
    "\n",
    "f.tight_layout()\n",
    "\n",
    "f.savefig(\n",
    "    os.path.join(fig_dir, f'HRP_direct_wh-fit_traces_{fig_name_suffix}.pdf'),\n",
    "    dpi=mpl_dpi,\n",
    ")\n",
    "\n",
    "# chi square\n",
    "chi_square_dir_indiv = sum((np.vstack(HRP_traces_sim)[:,1]\n",
    "                            -np.vstack(HRP_traces_exp[1:])[:,1])**2)\n",
    "\n",
    "print(chi_square_dir_indiv)"
   ]
  },
  {
   "cell_type": "markdown",
   "id": "a68edcd7-5757-460d-a907-024e32ee5cce",
   "metadata": {},
   "source": [
    "#### Fractional inhibition analysis on all traces"
   ]
  },
  {
   "cell_type": "code",
   "execution_count": null,
   "id": "837abc0e-8481-4ccc-bfff-1e6f6fc6a52e",
   "metadata": {},
   "outputs": [],
   "source": [
    "# Model setup\n",
    "mod_finhi_all = copy.deepcopy(mod_HRP_Manta2009)"
   ]
  },
  {
   "cell_type": "code",
   "execution_count": null,
   "id": "18483cdd-f0f9-4672-a538-096197bd59c3",
   "metadata": {},
   "outputs": [],
   "source": [
    "# Plot analysis\n",
    "\n",
    "# Assign data\n",
    "HRP_traces = exp_HRP_traces\n",
    "\n",
    "# Plot\n",
    "f, axarr = plt.subplots(1, 1)\n",
    "f.set_size_inches(w=mpl_width, h=mpl_height)\n",
    "\n",
    "axarr.plot(HRP_traces[0][:, 0], HRP_traces[0][:, 1], color='dimgrey', label='0')\n",
    "\n",
    "for count, trace in enumerate(HRP_traces[1:]):\n",
    "    axarr.plot(trace[:, 0], trace[:, 1], label=f'{exp_Prx_initials[1:][count]}')\n",
    "\n",
    "axarr.set_xlabel('Time (s)', fontsize=mpl_xlabel_fontsize)\n",
    "axarr.set_ylabel(f'Absorbance ({exp_Abs_nm} nm)', fontsize=mpl_ylabel_fontsize)\n",
    "axarr.legend(title=f'Prx ({mu}M)', ncols=3, columnspacing=1, loc='upper right')\n",
    "\n",
    "f.tight_layout()\n"
   ]
  },
  {
   "cell_type": "code",
   "execution_count": null,
   "id": "e4470a0f-eadc-4f8f-b1bd-1421083e3786",
   "metadata": {},
   "outputs": [],
   "source": [
    "# Plot analysis\n",
    "\n",
    "# Assign data\n",
    "HRP_traces = exp_HRP_traces\n",
    "\n",
    "dAbs = list(\n",
    "    abs(trace[-math.floor(len(trace) / 10) :, 1].mean()) for trace in HRP_traces\n",
    ")\n",
    "\n",
    "HRP_dAbs = np.array(list(zip(exp_Prx_initials, dAbs)))\n",
    "\n",
    "# Plot\n",
    "f, axarr = plt.subplots(1, 1)\n",
    "f.set_size_inches(w=mpl_width, h=mpl_height)\n",
    "\n",
    "bar_width = (\n",
    "    HRP_dAbs[:, 0].max() / len(HRP_dAbs[:, 0]) * 0.2\n",
    ")   # set bar_width to a fraction of space per data point\n",
    "\n",
    "plt.bar(HRP_dAbs[:, 0], HRP_dAbs[:, 1], width=bar_width, align='center')\n",
    "\n",
    "axarr.set_xticks(HRP_dAbs[:, 0])\n",
    "axarr.set_xlabel(f'Prx ({mu}M)', fontsize=mpl_xlabel_fontsize)\n",
    "axarr.set_ylabel(f'$\\Delta$ Absorbance ({exp_Abs_nm} nm)', fontsize=mpl_ylabel_fontsize)\n",
    "\n",
    "f.tight_layout()\n",
    "\n",
    "f.savefig(os.path.join(fig_dir, f'HRP_f-inhi_dAbs_{fig_name_suffix}.pdf'), dpi=mpl_dpi)"
   ]
  },
  {
   "cell_type": "code",
   "execution_count": null,
   "id": "b91f9b88-815d-4f2e-8db8-f94de2a60b41",
   "metadata": {},
   "outputs": [],
   "source": [
    "# Plot analysis\n",
    "HRP_traces = exp_HRP_traces\n",
    "\n",
    "# Assign data\n",
    "HRP_f_inhi = list(\n",
    "    map(lambda trace: calc_f_inhi(trace, HRP_traces[0], mod_finhi_all), HRP_traces[1:])\n",
    ")\n",
    "HRP_f_inhi = np.array((exp_Prx_initials[1:], HRP_f_inhi)).transpose()\n",
    "HRP_f_inhi_lm = LinearRegression().fit(\n",
    "    HRP_f_inhi[:, 0].reshape(-1, 1), HRP_f_inhi[:, 1]\n",
    ")\n",
    "frac_inhi_whole_kPrx = HRP_f_inhi_lm.coef_[0]\n",
    "\n",
    "# Plot\n",
    "f, axarr = plt.subplots(1, 1)\n",
    "f.set_size_inches(w=mpl_width, h=mpl_height)\n",
    "\n",
    "axarr.plot(\n",
    "    HRP_f_inhi[:, 0],\n",
    "    HRP_f_inhi[:, 1],\n",
    "    'bo',\n",
    "    label=f'$k_{{Prx}} = {frac_inhi_whole_kPrx:.3}\\ \\mathrm{{ µM^{{{-1}}}\\cdot s^{{{-1}}} }}$',\n",
    ")\n",
    "axarr.plot(\n",
    "    np.hstack(([0], HRP_f_inhi[:, 0])),\n",
    "    HRP_f_inhi_lm.predict(np.hstack(([0], HRP_f_inhi[:, 0])).reshape(-1, 1)),\n",
    "    f'k-',\n",
    ")\n",
    "\n",
    "axarr.set_xlabel(f'[Prx] ({mu}M)', fontsize=mpl_xlabel_fontsize)\n",
    "axarr.set_ylabel(\n",
    "    '$k\\mathregular{{_{{HRP}}}}$$\\cdot$[HRP]$\\cdot$\\\n",
    "($\\Delta A_{{{max}}}-\\Delta A_{{{obs}}}$)/$\\Delta A_{{{obs}}}$',\n",
    "    fontsize=mpl_ylabel_fontsize,\n",
    ")\n",
    "\n",
    "axarr.set_ylim(bottom=0)\n",
    "axarr.set_xlim(left=0)\n",
    "axarr.legend()\n",
    "\n",
    "f.tight_layout()\n",
    "\n",
    "f.savefig(\n",
    "    os.path.join(fig_dir, f'HRP_f-inhi_vs_Prx_{fig_name_suffix}.pdf'), dpi=mpl_dpi\n",
    ")"
   ]
  },
  {
   "cell_type": "code",
   "execution_count": null,
   "id": "650dfff5-f1d5-49c4-99cc-c92ee65ef3f1",
   "metadata": {},
   "outputs": [],
   "source": [
    "# Simulate data\n",
    "\n",
    "setattr(mod_finhi_all, 'k_Prx', frac_inhi_whole_kPrx)\n",
    "\n",
    "sim_HRP_traces = []\n",
    "vary = \"Prx_init\"\n",
    "\n",
    "for count, SH_init in enumerate(exp_Prx_initials[1:]):\n",
    "\n",
    "    HRP_trace = do_HRP_trace(\n",
    "        mod_finhi_all,\n",
    "        vary,\n",
    "        exp_Prx_initials[1:][count],\n",
    "        time_points=exp_HRP_traces[1:][count][:, 0],\n",
    "    )\n",
    "\n",
    "    sim_HRP_traces.append(HRP_trace)"
   ]
  },
  {
   "cell_type": "code",
   "execution_count": null,
   "id": "207f6142-da33-4216-a408-6d13729c1dc9",
   "metadata": {},
   "outputs": [],
   "source": [
    "# Plot analysis\n",
    "\n",
    "# Assign data\n",
    "HRP_traces_exp = exp_HRP_traces\n",
    "HRP_traces_sim = sim_HRP_traces\n",
    "\n",
    "# Plot\n",
    "f, axarr = plt.subplots(1, 1)\n",
    "f.set_size_inches(w=mpl_width, h=mpl_height)\n",
    "\n",
    "axarr.plot(HRP_traces_exp[0][:, 0], HRP_traces_exp[0][:, 1], color='dimgrey', label='0')\n",
    "for count, trace in enumerate(HRP_traces_exp[1:]):\n",
    "    axarr.plot(trace[:, 0], trace[:, 1], label=f'{exp_Prx_initials[1:][count]}')\n",
    "\n",
    "axarr.plot(HRP_traces_sim[0][:, 0], HRP_traces_sim[0][:, 1], 'k--')\n",
    "for count, trace in enumerate(HRP_traces_sim[1:]):\n",
    "    axarr.plot(trace[:, 0], trace[:, 1], 'k--')\n",
    "\n",
    "axarr.set_xlabel('Time (s)', fontsize=mpl_xlabel_fontsize)\n",
    "axarr.set_ylabel(f'Absorbance ({exp_Abs_nm} nm)', fontsize=mpl_ylabel_fontsize)\n",
    "axarr.legend(title=f'Prx ({mu}M)', ncols=3, columnspacing=1, loc='upper right')\n",
    "\n",
    "f.tight_layout()\n",
    "\n",
    "f.savefig(\n",
    "    os.path.join(fig_dir, f'HRP_f-inhi_wh-fit_traces_{fig_name_suffix}.pdf'),\n",
    "    dpi=mpl_dpi,\n",
    ")\n",
    "\n",
    "# chi square\n",
    "chi_square_dir_indiv = sum((np.vstack(HRP_traces_sim)[:,1]\n",
    "                            -np.vstack(HRP_traces_exp[1:])[:,1])**2)\n",
    "\n",
    "print(chi_square_dir_indiv)"
   ]
  },
  {
   "cell_type": "markdown",
   "id": "49a1a12d-8581-42f4-9397-d69d18dda19c",
   "metadata": {},
   "source": [
    "#### Fractional inhibition analysis on each trace separately"
   ]
  },
  {
   "cell_type": "code",
   "execution_count": null,
   "id": "1c1f1b7a-25f7-420a-9517-82f7c24760f6",
   "metadata": {},
   "outputs": [],
   "source": [
    "# Model setup\n",
    "mod_finhi_indiv = copy.deepcopy(mod_HRP_Manta2009)"
   ]
  },
  {
   "cell_type": "code",
   "execution_count": null,
   "id": "85b117c9-f4d8-48d4-9c9f-29a05cf1f5f5",
   "metadata": {},
   "outputs": [],
   "source": [
    "frac_inhi_indiv_kPrxs = HRP_f_inhi[:, 1] / HRP_f_inhi[:, 0] - HRP_f_inhi_lm.intercept_\n",
    "print(f'fitted k_Prxs: {frac_inhi_indiv_kPrxs}')"
   ]
  },
  {
   "cell_type": "code",
   "execution_count": null,
   "id": "2aab1693-03f7-495f-8295-e0f409047838",
   "metadata": {},
   "outputs": [],
   "source": [
    "# Simulate data\n",
    "sim_HRP_traces = []\n",
    "vary = \"Prx_init\"\n",
    "\n",
    "for count, kPrx in enumerate(frac_inhi_indiv_kPrxs):\n",
    "    setattr(mod_finhi_indiv, 'k_Prx', kPrx)\n",
    "\n",
    "    HRP_trace = do_HRP_trace(\n",
    "        mod_finhi_indiv,\n",
    "        vary,\n",
    "        exp_Prx_initials[1:][count],\n",
    "        time_points=exp_HRP_traces[1:][count][:, 0],\n",
    "    )\n",
    "\n",
    "    sim_HRP_traces.append(HRP_trace)"
   ]
  },
  {
   "cell_type": "code",
   "execution_count": null,
   "id": "b29e601f-9e54-48c4-ab7e-54d8379f2469",
   "metadata": {},
   "outputs": [],
   "source": [
    "# Plot analysis\n",
    "\n",
    "# Assign data\n",
    "HRP_traces_exp = exp_HRP_traces\n",
    "HRP_traces_sim = sim_HRP_traces\n",
    "\n",
    "# Plot\n",
    "f, axarr = plt.subplots(1, 1)\n",
    "f.set_size_inches(w=mpl_width, h=mpl_height)\n",
    "\n",
    "axarr.plot(HRP_traces_exp[0][:, 0], HRP_traces_exp[0][:, 1], color='dimgrey', label='0')\n",
    "for count, trace in enumerate(HRP_traces_exp[1:]):\n",
    "    axarr.plot(trace[:, 0], trace[:, 1], label=f'{exp_Prx_initials[1:][count]}')\n",
    "\n",
    "axarr.plot(HRP_traces_sim[0][:, 0], HRP_traces_sim[0][:, 1], 'k--')\n",
    "for count, trace in enumerate(HRP_traces_sim[1:]):\n",
    "    axarr.plot(trace[:, 0], trace[:, 1], 'k--')\n",
    "\n",
    "axarr.set_xlabel('Time (s)', fontsize=mpl_xlabel_fontsize)\n",
    "axarr.set_ylabel(f'Absorbance ({exp_Abs_nm} nm)', fontsize=mpl_ylabel_fontsize)\n",
    "axarr.legend(title=f'Prx ({mu}M)', ncols=3, columnspacing=1, loc='upper right')\n",
    "\n",
    "f.tight_layout()\n",
    "\n",
    "f.savefig(\n",
    "    os.path.join(fig_dir, f'HRP_f-inhi_ind-fit_traces_{fig_name_suffix}.pdf'),\n",
    "    dpi=mpl_dpi,\n",
    ")\n",
    "\n",
    "# chi square\n",
    "chi_square_dir_indiv = sum((np.vstack(HRP_traces_sim)[:,1]\n",
    "                            -np.vstack(HRP_traces_exp[1:])[:,1])**2)\n",
    "\n",
    "print(chi_square_dir_indiv)"
   ]
  }
 ],
 "metadata": {
  "kernelspec": {
   "display_name": "Python 3 (ipykernel)",
   "language": "python",
   "name": "python3"
  },
  "language_info": {
   "codemirror_mode": {
    "name": "ipython",
    "version": 3
   },
   "file_extension": ".py",
   "mimetype": "text/x-python",
   "name": "python",
   "nbconvert_exporter": "python",
   "pygments_lexer": "ipython3",
   "version": "3.11.5"
  },
  "scenes_data": {
   "active_scene": "Default Scene",
   "init_scene": "",
   "scenes": [
    "Default Scene"
   ]
  },
  "toc": {
   "base_numbering": 1,
   "nav_menu": {},
   "number_sections": true,
   "sideBar": true,
   "skip_h1_title": false,
   "title_cell": "Table of Contents",
   "title_sidebar": "Contents",
   "toc_cell": false,
   "toc_position": {},
   "toc_section_display": true,
   "toc_window_display": true
  }
 },
 "nbformat": 4,
 "nbformat_minor": 5
}
