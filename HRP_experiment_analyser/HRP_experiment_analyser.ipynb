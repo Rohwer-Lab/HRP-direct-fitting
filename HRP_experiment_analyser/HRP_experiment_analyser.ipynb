{
 "cells": [
  {
   "cell_type": "markdown",
   "id": "3658aba8-5d29-45ad-9f46-62fe04ef2df5",
   "metadata": {},
   "source": [
    "**Direct fitting of HRP competition assay for peroxidase activity**\n",
    "\n",
    "Chris Barry, Ché Pillay, Johann Rohwer\n",
    "\n",
    "Redox Biochemistry and Chemistry\n"
   ]
  },
  {
   "cell_type": "markdown",
   "id": "0aabbe92-ac41-4c70-9536-bb6114bb9c26",
   "metadata": {},
   "source": [
    "# Running this notebook \n",
    "\n",
    "This notebook can be executed with Binder, Google Colab, or locally. All the required Python packages are installed and imported.\n",
    "\n",
    "## Binder \n",
    "\n",
    "If you run this notebook with Binder you don't have to install anything, Binder takes care of this.\n",
    "\n",
    "## Google Colab  \n",
    "\n",
    "In order to run on Google Colaboratory (Colab), a module needs to be installed and the dataset is loaded from GitHub. This is done in the first Code Cell.  \n",
    "To run the notebook on Colab click on the badge:  \n",
    "[![Colab](https://colab.research.google.com/assets/colab-badge.svg)](https://colab.research.google.com/github/Rohwer-Lab/HRP-direct-fitting/blob/main/HRP_experiment_analyser/HRP_experiment_analyser.ipynb)  \n",
    "Then, in Colab, select the Code Cell below and press `Shift-Enter`."
   ]
  },
  {
   "cell_type": "code",
   "execution_count": null,
   "id": "52176891-d5ab-4b4a-a08e-937edf09444f",
   "metadata": {},
   "outputs": [],
   "source": [
    "if 'google.colab' in str(get_ipython()):\n",
    "    !pip install lmfit\n",
    "    !wget https://github.com/Rohwer-Lab/HRP-direct-fitting/raw/main/HRP_experiment_analyser/HRP_data_template.xlsx\n",
    "else:\n",
    "    print('Not running on Colab.')"
   ]
  },
  {
   "cell_type": "markdown",
   "id": "1b871cb9-f198-42aa-8abb-6cb4a94337ea",
   "metadata": {},
   "source": [
    "## Local environment  \n",
    "\n",
    "If you run this notebook locally make sure you have all packages installed and the dataset (Excel template) in the same directory as the notebook. The `README` on the GitHub repository has detailed instructions for setting up a local computational environment"
   ]
  },
  {
   "cell_type": "markdown",
   "id": "82755622-6473-4ee6-b33f-74244d69f7c0",
   "metadata": {},
   "source": [
    "# Prerequisites\n",
    "\n",
    "Paste the raw experimental data into the Excel template provided (`HRP_data_template.xlsx`) and save the file in the same directory as this notebook.\n",
    "\n",
    "# How to run the analysis\n",
    "\n",
    "To run the analysis perform the steps below in order.\n",
    "\n",
    "1) Select the cell below and press `Enter` while holding `Shift`.\n",
    "2) Once the cell executes,\n",
    "    - Click on the `Select` button below the cell.\n",
    "    - Select your Excel template file in the file browser which appears.\n",
    "    - Click on the `Select` button again.  \n",
    "3) Once the template has been selected,\n",
    "    - Select the next cell.\n",
    "    - Click on `Run` in the top menu.\n",
    "    - Click `Run Selected Cell and All Below` in the drop down menu which appears.\n",
    "\n",
    "The analysis should run to completion within several seconds.\n",
    "\n",
    "If you want to follow the analysis step-by-step, individual code cells can be executed by selecting the cell and pressing `Shift-Enter` on the keyboard.\n",
    "\n",
    "# How to view the results\n",
    "\n",
    "An Excel file with the fitted rate constants and several graphs of simulations with the fitted rate constants will be created in the same location as the Excel template file.\n",
    "\n",
    "Alternatively, the results can be viewed by scrolling down within this notebook."
   ]
  },
  {
   "cell_type": "code",
   "execution_count": null,
   "id": "cf7c76d2-2c8d-4a20-a09b-6ce6fe51d0c6",
   "metadata": {},
   "outputs": [],
   "source": [
    "# Select this cell first and press `Enter` while holding `Shift`.\n",
    "from ipyfilechooser import FileChooser\n",
    "\n",
    "fc = FileChooser()\n",
    "display(fc)"
   ]
  },
  {
   "cell_type": "code",
   "execution_count": null,
   "id": "7e3a8598-c44f-4f99-a01b-201bdcc7ee8e",
   "metadata": {},
   "outputs": [],
   "source": [
    "# Once the template has been selected\n",
    "#     Select this cell.\n",
    "#     Click on Run in the top menu.\n",
    "#     Click Run Selected Cell and All Below in the drop down menu which appears."
   ]
  },
  {
   "cell_type": "markdown",
   "id": "dc43aad1-0093-461d-a2a3-842bb693967d",
   "metadata": {},
   "source": [
    "##### Imports"
   ]
  },
  {
   "cell_type": "code",
   "execution_count": null,
   "id": "f2d1abc9-8989-41c7-b585-f89c54c2679a",
   "metadata": {},
   "outputs": [],
   "source": [
    "import os\n",
    "import copy\n",
    "import math\n",
    "from datetime import datetime\n",
    "\n",
    "import numpy as np\n",
    "import pandas as pd\n",
    "from matplotlib import pyplot as plt\n",
    "from sklearn.linear_model import LinearRegression\n",
    "from lmfit import minimize, Parameters, Parameter, report_fit\n",
    "from scipy.stats import chisquare\n",
    "from scipy.integrate import solve_ivp\n",
    "import openpyxl\n",
    "from openpyxl.styles import Font, Border, Side, PatternFill\n",
    "from openpyxl.worksheet.dimensions import ColumnDimension, DimensionHolder\n",
    "from openpyxl.utils import get_column_letter"
   ]
  },
  {
   "cell_type": "markdown",
   "id": "fb6c04e0-2953-4fac-9195-1951349f8f7c",
   "metadata": {},
   "source": [
    "##### directories"
   ]
  },
  {
   "cell_type": "code",
   "execution_count": null,
   "id": "4f5a0689-dba8-43b0-8fa0-ad0b2dd0a8d0",
   "metadata": {},
   "outputs": [],
   "source": [
    "data_file_name = fc.selected_filename\n",
    "data_file_path = fc.selected_path\n",
    "fig_dir = data_file_path"
   ]
  },
  {
   "cell_type": "markdown",
   "id": "3a1b28ca-eebf-43ee-9519-9bb046e12aca",
   "metadata": {},
   "source": [
    "##### data file"
   ]
  },
  {
   "cell_type": "code",
   "execution_count": null,
   "id": "1cbe7877-2a6a-410c-9aa3-870d30ffb765",
   "metadata": {},
   "outputs": [],
   "source": [
    "data_file = openpyxl.load_workbook(os.path.join(data_file_path, data_file_name))\n",
    "data_spreadsheet = data_file['Sheet1']"
   ]
  },
  {
   "cell_type": "markdown",
   "id": "6cbb6413-ab92-457b-a107-5c618b6e8605",
   "metadata": {},
   "source": [
    "##### Matplotlib parameters"
   ]
  },
  {
   "cell_type": "code",
   "execution_count": null,
   "id": "c4dc0bb9-7b19-47c4-92d6-968122d66f3c",
   "metadata": {},
   "outputs": [],
   "source": [
    "%matplotlib inline\n",
    "\n",
    "mpl_width = 4.5\n",
    "mpl_height = 3.5\n",
    "mpl_dpi = 600\n",
    "mpl_xlabel_fontsize = 'large'\n",
    "mpl_ylabel_fontsize = 'large'\n",
    "mu = '\\u03bc'"
   ]
  },
  {
   "cell_type": "markdown",
   "id": "d89ea619-c586-46ae-a736-d25139b232c4",
   "metadata": {},
   "source": [
    "##### define HRP model class"
   ]
  },
  {
   "cell_type": "code",
   "execution_count": null,
   "id": "eaca1faa-f901-46fa-b36c-f80b5db623aa",
   "metadata": {},
   "outputs": [],
   "source": [
    "class HRP_model:\n",
    "    \"\"\"\n",
    "    Class to set up the HRP assay model.\n",
    "    \"\"\"\n",
    "\n",
    "    def __init__(self, k_Prx=17.0, k_HRP=17.0, H2O2_init=4, Prx_init=5, HRP_init=10, compound_I_init=0):\n",
    "        self.k_Prx = k_Prx\n",
    "        self.k_HRP = k_HRP\n",
    "        self.H2O2_init = H2O2_init\n",
    "        self.Prx_init = Prx_init\n",
    "        self.HRP_init = HRP_init\n",
    "        self.compound_I_init = compound_I_init\n",
    "\n",
    "    def _dydt(self, t, y, k_HRP, k_Prx):\n",
    "        # y = (HRP, Prx, H2O2, compound_I)\n",
    "        v0 = k_HRP * y[0] * y[2]      # v_HRP\n",
    "        v1 = k_Prx * y[1] * y[2]      # v_Prx\n",
    "        dHRPdt = -v0\n",
    "        dPrxdt = -v1\n",
    "        dH2O2dt = -v0 - v1\n",
    "        dcompound_Idt = v0\n",
    "        return [dHRPdt, dPrxdt, dH2O2dt, dcompound_Idt]\n",
    "\n",
    "    def Simulate(self, time_points=None, userinit=0):\n",
    "        if userinit == 1:\n",
    "            assert hasattr(self, 'sim_time'), \"Time points must be specified as mod.sim_time\"\n",
    "            time_points = self.sim_time\n",
    "        y0 = [self.HRP_init, self.Prx_init, self.H2O2_init, self.compound_I_init]\n",
    "        t_span = (0, time_points.max())\n",
    "        sol = solve_ivp(\n",
    "            self._dydt,\n",
    "            t_span,\n",
    "            y0,\n",
    "            t_eval=time_points,\n",
    "            args=(self.k_HRP, self.k_Prx),\n",
    "            atol=1e-12,\n",
    "            rtol=1e-10,\n",
    "            method=\"LSODA\",\n",
    "        )\n",
    "        self.sol = sol\n",
    "        v0 = self.k_HRP * sol.y[0] * sol.y[2]      # v_HRP\n",
    "        v1 = self.k_Prx * sol.y[1] * sol.y[2]      # v_Prx\n",
    "        sim = np.hstack((sol.t.reshape(len(sol.t), 1), sol.y.T, np.vstack((v0, v1)).T))\n",
    "        self.sim = pd.DataFrame(\n",
    "            sim, columns=['Time', 'HRP', 'Prx', 'H2O2', 'compound_I', 'v0', 'v1']\n",
    "        )"
   ]
  },
  {
   "cell_type": "markdown",
   "id": "e47d3281-43bc-4a43-83e4-f012c7a99727",
   "metadata": {},
   "source": [
    "##### functions"
   ]
  },
  {
   "cell_type": "code",
   "execution_count": null,
   "id": "f5a751a9-3309-415c-9efa-007dd890abb9",
   "metadata": {},
   "outputs": [],
   "source": [
    "def do_HRP_trace(mod, Prx, time_points):\n",
    "    \"\"\"\n",
    "    Simulates a HRP assay trace.\n",
    "    Requires \"a_factor\" as a GLOBAL\n",
    "    \"\"\"\n",
    "\n",
    "    # Set expicit experimental concentration\n",
    "    setattr(mod, 'Prx_init', Prx)\n",
    "\n",
    "    # Do simulation\n",
    "    mod.sim_time = time_points\n",
    "    mod.Simulate(userinit=1)\n",
    "\n",
    "    # Grab data\n",
    "    assay_time = mod.sim['Time']\n",
    "    assay_absorbance = mod.sim['compound_I'] * a_factor\n",
    "    trace = np.array((assay_time, assay_absorbance)).transpose()\n",
    "\n",
    "    return trace\n",
    "\n",
    "\n",
    "def calc_f_inhi(trace, trace_HRP_only, mod):\n",
    "    \"\"\"\n",
    "    Calculates the fractional inhibition of a HRP trace.\n",
    "    \"\"\"\n",
    "    # Takes the mean of the last 10% of points in order to account for noise\n",
    "    delta_max = trace_HRP_only[-math.floor(len(trace_HRP_only) / 10) :, 1].mean()\n",
    "    delta_obs = trace[-math.floor(len(trace) / 10) :, 1].mean()\n",
    "    k_HRP = getattr(mod, 'k_HRP')\n",
    "    HRP_init = getattr(mod, 'HRP_init')\n",
    "    f_inhi = k_HRP * HRP_init * ((delta_max - delta_obs) / delta_obs)\n",
    "    return f_inhi\n",
    "\n",
    "\n",
    "def calc_a_factor(e_compound_I=-5.4 * 10**4, c=10 ** (-6), l=1):\n",
    "    \"\"\"\n",
    "    c = 10**(-6) # Analysis is in micro Molar\n",
    "    l = 1 # Light path of reader\n",
    "    e_compound_I = -5.4*10**4 # HRP breaks down into compound_I which is measured spectrophotometrically\n",
    "    \"\"\"\n",
    "    a_factor = e_compound_I * c * l   # A per umol HRP (or Compound_I)\n",
    "    return a_factor\n",
    "\n",
    "\n",
    "def res_HRP_exp(params, mod, PSH_init_range, data_traces):\n",
    "    \"\"\"\n",
    "    A residual function used for fitting 'k_Prx' in an HRP assay model.\n",
    "    Simulates HRP assay traces under the same conditions as the data traces and finds the residual.\n",
    "    \"\"\"\n",
    "    # Update model\n",
    "    mod.k_Prx = params['k_Prx'].value\n",
    "\n",
    "    # HRP-only trace (Prx=0)\n",
    "    data_HRP_only = data_traces[0]\n",
    "    trace_HRP_only = do_HRP_trace(mod, 0, time_points=data_HRP_only[:, 0])\n",
    "\n",
    "    # Assay traces\n",
    "    sim_traces = list(\n",
    "        map(\n",
    "            lambda PSH_init, data_trace: do_HRP_trace(\n",
    "                mod, PSH_init, time_points=data_trace[:, 0]\n",
    "            ),\n",
    "            PSH_init_range,\n",
    "            data_traces[1:],\n",
    "        )\n",
    "    )\n",
    "\n",
    "    sim_traces.insert(0, trace_HRP_only)\n",
    "\n",
    "    residuals = abs(np.vstack(sim_traces[1:]) - np.vstack(data_traces[1:]))\n",
    "\n",
    "    # Check that time points align\n",
    "    t_array_diff = residuals[:, 0] > 0.00001\n",
    "    if True in t_array_diff:\n",
    "        print(\"Warning: sim and data time arrays don't align\")\n",
    "\n",
    "    return residuals[:, 1]"
   ]
  },
  {
   "cell_type": "markdown",
   "id": "632a5f92-7b0d-456c-88cb-af1c40f12adc",
   "metadata": {},
   "source": [
    "##### Get user INPUT data"
   ]
  },
  {
   "cell_type": "code",
   "execution_count": null,
   "id": "6116ecb5-25da-435f-a52a-63c600b7483f",
   "metadata": {},
   "outputs": [],
   "source": [
    "# Name\n",
    "exp_Name = data_spreadsheet['A8'].value   # - USER INPUT\n",
    "\n",
    "# Assay parameters\n",
    "exp_Prx_initials = [cell.value for cell in data_spreadsheet['27']]  # μM - USER INPUT\n",
    "seen = set()\n",
    "exp_Prx_initials = [x for x in exp_Prx_initials if not (x in seen or seen.add(x))]\n",
    "while None in exp_Prx_initials:\n",
    "    exp_Prx_initials.remove(None)\n",
    "exp_Prx_initials = [float(Prx) for Prx in exp_Prx_initials]\n",
    "exp_HRP_initial = float(data_spreadsheet['B14'].value)   # μM - USER INPUT\n",
    "exp_H2O2_initial = float(data_spreadsheet['B15'].value)  # μM - USER INPUT\n",
    "\n",
    "# Method parameters\n",
    "exp_kHRP = float(data_spreadsheet['B16'].value)   # μM.s - USER INPUT\n",
    "exp_Abs_nm = int(data_spreadsheet['B17'].value)   # only used in plot titles\n",
    "e_compound_I_Abs_nm = float(\n",
    "    data_spreadsheet['B18'].value\n",
    ")   # -1.02*10**(5) # M-\u00031 cm-\u00031 e_403 \n",
    "exp_lightpath = float(data_spreadsheet['B19'].value)   # cm - USER INPUT\n",
    "\n",
    "# Data traces\n",
    "trace_start_row = 28\n",
    "exp_HRP_traces = []\n",
    "for count, Prx in enumerate(exp_Prx_initials):\n",
    "    time_col = get_column_letter(count * 2 + 1)\n",
    "    time_range = data_spreadsheet[time_col]\n",
    "    time_range = time_range[trace_start_row:]\n",
    "\n",
    "    Abs_col = get_column_letter(count * 2 + 2)\n",
    "    Abs_range = data_spreadsheet[Abs_col]\n",
    "    Abs_range = Abs_range[trace_start_row:]\n",
    "\n",
    "    trace = list()\n",
    "    for time, Abs in zip(time_range, Abs_range):\n",
    "        if time.value is None or Abs.value is None:\n",
    "            break\n",
    "        else:\n",
    "            trace.append([time.value, Abs.value])\n",
    "    trace = np.array(trace)\n",
    "    exp_HRP_traces.append(trace)"
   ]
  },
  {
   "cell_type": "markdown",
   "id": "27ed135e-ea52-4a8b-ae50-16dcfd010cb1",
   "metadata": {},
   "source": [
    "##### calculate absorbance factor"
   ]
  },
  {
   "cell_type": "code",
   "execution_count": null,
   "id": "7f367ffd-e79d-4ff1-b997-b221cac39f9c",
   "metadata": {},
   "outputs": [],
   "source": [
    "a_factor = calc_a_factor(e_compound_I=e_compound_I_Abs_nm, l=exp_lightpath)"
   ]
  },
  {
   "cell_type": "markdown",
   "id": "0f8ce3f6-c707-4d36-9a74-c9a99d97f5fe",
   "metadata": {},
   "source": [
    "## Fit k_Prx by ODE"
   ]
  },
  {
   "cell_type": "markdown",
   "id": "3ef38ea5-5813-42d6-a1e4-86b373418de7",
   "metadata": {},
   "source": [
    "### Setup model"
   ]
  },
  {
   "cell_type": "code",
   "execution_count": null,
   "id": "50f71f9a-9250-41f9-80f5-81503fc905b0",
   "metadata": {},
   "outputs": [],
   "source": [
    "mod_HRP_Prx = HRP_model()\n",
    "\n",
    "setattr(mod_HRP_Prx, 'HRP_init', exp_HRP_initial)\n",
    "setattr(mod_HRP_Prx, 'H2O2_init', exp_H2O2_initial)\n",
    "setattr(mod_HRP_Prx, 'k_HRP', exp_kHRP)"
   ]
  },
  {
   "cell_type": "markdown",
   "id": "81bc4e3a-db1b-4ed0-8883-4fc317801575",
   "metadata": {},
   "source": [
    "### Fit to each trace"
   ]
  },
  {
   "cell_type": "code",
   "execution_count": null,
   "id": "37512c63-94c7-4ebe-b24d-194da6b974fe",
   "metadata": {},
   "outputs": [],
   "source": [
    "mod_direct_indiv = copy.deepcopy(mod_HRP_Prx)"
   ]
  },
  {
   "cell_type": "code",
   "execution_count": null,
   "id": "ae74291e-59e7-490a-9b5b-4eeaf2a65352",
   "metadata": {},
   "outputs": [],
   "source": [
    "# Fit\n",
    "direct_fit_indiv_kPrxs = []\n",
    "direct_fit_indiv_stderr = []\n",
    "\n",
    "for count, exp_HRP_trace in enumerate(exp_HRP_traces[1:]):\n",
    "    param_lib = Parameters()\n",
    "    param_lib.add('k_Prx', value=1, min=0.0)\n",
    "    fit_kPrx = minimize(\n",
    "        res_HRP_exp,\n",
    "        param_lib,\n",
    "        args=(\n",
    "            mod_direct_indiv,\n",
    "            [exp_Prx_initials[1:][count]],\n",
    "            [exp_HRP_traces[0], exp_HRP_trace],\n",
    "        ),\n",
    "    )\n",
    "    direct_fit_indiv_kPrxs.append(fit_kPrx.params['k_Prx'].value)\n",
    "    direct_fit_indiv_stderr.append(fit_kPrx.params['k_Prx'].stderr)"
   ]
  },
  {
   "cell_type": "code",
   "execution_count": null,
   "id": "381f3eb5-6188-4bbb-b5ae-1fa621de574c",
   "metadata": {},
   "outputs": [],
   "source": [
    "# Display fitted values\n",
    "print(direct_fit_indiv_kPrxs)"
   ]
  },
  {
   "cell_type": "code",
   "execution_count": null,
   "id": "124a021e-24be-4da0-aa0d-05b6243375f1",
   "metadata": {},
   "outputs": [],
   "source": [
    "sim_HRP_traces = []\n",
    "\n",
    "for count, kPrx in enumerate(direct_fit_indiv_kPrxs):\n",
    "    setattr(mod_direct_indiv, 'k_Prx', kPrx)\n",
    "\n",
    "    HRP_trace = do_HRP_trace(\n",
    "        mod_direct_indiv,\n",
    "        exp_Prx_initials[1:][count],\n",
    "        time_points=exp_HRP_traces[1:][count][:, 0],\n",
    "    )\n",
    "\n",
    "    sim_HRP_traces.append(HRP_trace)"
   ]
  },
  {
   "cell_type": "code",
   "execution_count": null,
   "id": "364b19f4-b1b7-439d-95d7-ec53d6e2781a",
   "metadata": {},
   "outputs": [],
   "source": [
    "# Plot analysis\n",
    "\n",
    "# Assign data\n",
    "HRP_traces_exp = exp_HRP_traces\n",
    "HRP_traces_sim = sim_HRP_traces\n",
    "\n",
    "# Plot\n",
    "f, axarr = plt.subplots(1, 1)\n",
    "f.set_size_inches(w=mpl_width, h=mpl_height)\n",
    "\n",
    "axarr.plot(HRP_traces_exp[0][:, 0], HRP_traces_exp[0][:, 1], color='dimgrey', label='0')\n",
    "for count, trace in enumerate(HRP_traces_exp[1:]):\n",
    "    axarr.plot(trace[:, 0], trace[:, 1], label=f'{exp_Prx_initials[1:][count]}')\n",
    "\n",
    "axarr.plot(HRP_traces_sim[0][:, 0], HRP_traces_sim[0][:, 1], 'k--')\n",
    "for count, trace in enumerate(HRP_traces_sim[1:]):\n",
    "    axarr.plot(trace[:, 0], trace[:, 1], 'k--')\n",
    "\n",
    "axarr.set_xlabel('Time (s)', fontsize=mpl_xlabel_fontsize)\n",
    "axarr.set_ylabel(f'Absorbance ({exp_Abs_nm} nm)', fontsize=mpl_ylabel_fontsize)\n",
    "axarr.legend(title=f'Prx ({mu}M)', ncols=3, columnspacing=1, loc='upper right')\n",
    "\n",
    "f.tight_layout()\n",
    "\n",
    "f.savefig(\n",
    "    os.path.join(fig_dir, f'HRP_direct_ind-fit_traces_{exp_Name}.pdf'),\n",
    "    dpi=mpl_dpi,\n",
    ")\n",
    "\n",
    "# chi square\n",
    "chi_square_dir_indiv = sum(\n",
    "    (np.vstack(HRP_traces_sim)[:,1]-np.vstack(HRP_traces_exp[1:])[:,1])**2\n",
    ")\n",
    "print(chi_square_dir_indiv)"
   ]
  },
  {
   "cell_type": "markdown",
   "id": "03da3789-035f-4a0a-abfa-786f3c8e367d",
   "metadata": {},
   "source": [
    "### Fit to all traces simultaneously"
   ]
  },
  {
   "cell_type": "code",
   "execution_count": null,
   "id": "85453a7b-74c8-49b8-b749-be4bb5e4911f",
   "metadata": {},
   "outputs": [],
   "source": [
    "mod_direct_all = copy.deepcopy(mod_HRP_Prx)"
   ]
  },
  {
   "cell_type": "code",
   "execution_count": null,
   "id": "e8c0b251-2831-414f-bc7b-c418312fffe5",
   "metadata": {
    "editable": true,
    "slideshow": {
     "slide_type": ""
    }
   },
   "outputs": [],
   "source": [
    "param_lib = Parameters()\n",
    "param_lib.add('k_Prx', value=1, min=0.0)\n",
    "fit = minimize(\n",
    "    res_HRP_exp, param_lib, args=(mod_direct_all, exp_Prx_initials[1:], exp_HRP_traces)\n",
    ")\n",
    "direct_fit_whole_kPrx = fit.params['k_Prx'].value\n",
    "direct_fit_whole_stderr = fit.params['k_Prx'].stderr"
   ]
  },
  {
   "cell_type": "code",
   "execution_count": null,
   "id": "e3384561-cfef-4fef-adb7-12adb0f17543",
   "metadata": {},
   "outputs": [],
   "source": [
    "report_fit(fit)"
   ]
  },
  {
   "cell_type": "code",
   "execution_count": null,
   "id": "3ba5af16-fca8-470a-96d0-c63dcabcad38",
   "metadata": {},
   "outputs": [],
   "source": [
    "# Simulate traces with fitted k_Prx\n",
    "setattr(mod_direct_all, 'k_Prx', direct_fit_whole_kPrx)\n",
    "\n",
    "sim_HRP_traces = []\n",
    "\n",
    "for count, SH_init in enumerate(exp_Prx_initials[1:]):\n",
    "\n",
    "    HRP_trace = do_HRP_trace(\n",
    "        mod_direct_all,\n",
    "        exp_Prx_initials[1:][count],\n",
    "        time_points=exp_HRP_traces[1:][count][:, 0],\n",
    "    )\n",
    "\n",
    "    sim_HRP_traces.append(HRP_trace)"
   ]
  },
  {
   "cell_type": "code",
   "execution_count": null,
   "id": "b76c163b-aa09-475a-b25e-8a1ec34617a9",
   "metadata": {},
   "outputs": [],
   "source": [
    "# Plot analysis\n",
    "\n",
    "# Assign data\n",
    "HRP_traces_exp = exp_HRP_traces\n",
    "HRP_traces_sim = sim_HRP_traces\n",
    "\n",
    "# Plot\n",
    "f, axarr = plt.subplots(1, 1)\n",
    "f.set_size_inches(w=mpl_width, h=mpl_height)\n",
    "\n",
    "axarr.plot(HRP_traces_exp[0][:, 0], HRP_traces_exp[0][:, 1], color='dimgrey', label='0')\n",
    "for count, trace in enumerate(HRP_traces_exp[1:]):\n",
    "    axarr.plot(trace[:, 0], trace[:, 1], label=f'{exp_Prx_initials[1:][count]}')\n",
    "\n",
    "axarr.plot(HRP_traces_sim[0][:, 0], HRP_traces_sim[0][:, 1], 'k--')\n",
    "for count, trace in enumerate(HRP_traces_sim[1:]):\n",
    "    axarr.plot(trace[:, 0], trace[:, 1], 'k--')\n",
    "\n",
    "axarr.set_xlabel('Time (s)', fontsize=mpl_xlabel_fontsize)\n",
    "axarr.set_ylabel(f'Absorbance ({exp_Abs_nm} nm)', fontsize=mpl_ylabel_fontsize)\n",
    "axarr.legend(title=f'Prx ({mu}M)', ncols=3, columnspacing=1, loc='upper right')\n",
    "\n",
    "f.tight_layout()\n",
    "\n",
    "f.savefig(\n",
    "    os.path.join(data_file_path, f'HRP_direct_wh-fit_traces_{exp_Name}.pdf'),\n",
    "    dpi=mpl_dpi,\n",
    ")\n",
    "\n",
    "# chi square\n",
    "chi_square_dir_indiv = sum(\n",
    "    (np.vstack(HRP_traces_sim)[:,1]-np.vstack(HRP_traces_exp[1:])[:,1])**2\n",
    ")\n",
    "print(chi_square_dir_indiv)"
   ]
  },
  {
   "cell_type": "markdown",
   "id": "99746f99-0ddb-4751-a937-ed0fc3e81ce7",
   "metadata": {},
   "source": [
    "## Calculate k_Prx by fractional inhibition"
   ]
  },
  {
   "cell_type": "markdown",
   "id": "f4af71a0-1289-442a-8921-c1a8a9d2a883",
   "metadata": {},
   "source": [
    "### Fit to all traces simultaneously"
   ]
  },
  {
   "cell_type": "code",
   "execution_count": null,
   "id": "fc75a014-832d-45fb-aefc-334010e8e6a8",
   "metadata": {},
   "outputs": [],
   "source": [
    "mod_finhi_all = copy.deepcopy(mod_HRP_Prx)"
   ]
  },
  {
   "cell_type": "code",
   "execution_count": null,
   "id": "01a91999-a02d-4bc5-b33d-6e2819f74e02",
   "metadata": {},
   "outputs": [],
   "source": [
    "# Plot analysis\n",
    "\n",
    "# Assign data\n",
    "HRP_traces = exp_HRP_traces\n",
    "\n",
    "# Plot\n",
    "f, axarr = plt.subplots(1, 1)\n",
    "f.set_size_inches(w=mpl_width, h=mpl_height)\n",
    "\n",
    "axarr.plot(HRP_traces[0][:, 0], HRP_traces[0][:, 1], color='dimgrey', label='0')\n",
    "\n",
    "for count, trace in enumerate(HRP_traces[1:]):\n",
    "    axarr.plot(trace[:, 0], trace[:, 1], label=f'{exp_Prx_initials[1:][count]}')\n",
    "\n",
    "axarr.set_xlabel('Time (s)', fontsize=mpl_xlabel_fontsize)\n",
    "axarr.set_ylabel(f'Absorbance ({exp_Abs_nm} nm)', fontsize=mpl_ylabel_fontsize)\n",
    "axarr.legend(title=f'Prx ({mu}M)', ncols=3, columnspacing=1, loc='upper right')\n",
    "\n",
    "f.tight_layout()\n",
    "\n",
    "# f.savefig(os.path.join(fig_dir,f\"HRP_traces_{exp_Name}.pdf\"),dpi=mpl_dpi)"
   ]
  },
  {
   "cell_type": "code",
   "execution_count": null,
   "id": "baa6c692-a90c-4932-b774-bad2b7d6ad5d",
   "metadata": {},
   "outputs": [],
   "source": [
    "# Plot analysis\n",
    "\n",
    "# Assign data\n",
    "HRP_traces = exp_HRP_traces\n",
    "\n",
    "dAbs = list(\n",
    "    abs(trace[-math.floor(len(trace) / 10) :, 1].mean()) for trace in HRP_traces\n",
    ")\n",
    "\n",
    "HRP_dAbs = np.array(list(zip(exp_Prx_initials, dAbs)))\n",
    "\n",
    "# Plot\n",
    "f, axarr = plt.subplots(1, 1)\n",
    "f.set_size_inches(w=mpl_width, h=mpl_height)\n",
    "\n",
    "bar_width = (\n",
    "    HRP_dAbs[:, 0].max() / len(HRP_dAbs[:, 0]) * 0.2\n",
    ")   # set bar_width to a fraction of space per data point\n",
    "\n",
    "plt.bar(HRP_dAbs[:, 0], HRP_dAbs[:, 1], width=bar_width, align='center')\n",
    "\n",
    "axarr.set_xticks(HRP_dAbs[:, 0])\n",
    "axarr.set_xlabel(f'Prx ({mu}M)', fontsize=mpl_xlabel_fontsize)\n",
    "axarr.set_ylabel(f'$\\Delta$ Absorbance ({exp_Abs_nm} nm)', fontsize=mpl_ylabel_fontsize)\n",
    "\n",
    "f.tight_layout()\n",
    "\n",
    "f.savefig(os.path.join(fig_dir, f'HRP_f-inhi_dAbs_{exp_Name}.pdf'), dpi=mpl_dpi)"
   ]
  },
  {
   "cell_type": "code",
   "execution_count": null,
   "id": "ec6fbe89-6eca-4bdb-a453-471d890bad0c",
   "metadata": {},
   "outputs": [],
   "source": [
    "# Plot analysis\n",
    "HRP_traces = exp_HRP_traces\n",
    "\n",
    "# Assign data\n",
    "HRP_f_inhi = list(\n",
    "    map(lambda trace: calc_f_inhi(trace, HRP_traces[0], mod_finhi_all), HRP_traces[1:])\n",
    ")\n",
    "HRP_f_inhi = np.array((exp_Prx_initials[1:], HRP_f_inhi)).transpose()\n",
    "HRP_f_inhi_lm = LinearRegression().fit(\n",
    "    HRP_f_inhi[:, 0].reshape(-1, 1), HRP_f_inhi[:, 1]\n",
    ")\n",
    "frac_inhi_whole_kPrx = HRP_f_inhi_lm.coef_[0]\n",
    "\n",
    "# Plot\n",
    "f, axarr = plt.subplots(1, 1)\n",
    "f.set_size_inches(w=mpl_width, h=mpl_height)\n",
    "\n",
    "axarr.plot(\n",
    "    HRP_f_inhi[:, 0],\n",
    "    HRP_f_inhi[:, 1],\n",
    "    'bo',\n",
    "    label=f'$k_{{Prx}} = {frac_inhi_whole_kPrx:.3}\\ \\mathrm{{ µM^{{{-1}}}\\cdot s^{{{-1}}} }}$',\n",
    ")\n",
    "axarr.plot(\n",
    "    np.hstack(([0], HRP_f_inhi[:, 0])),\n",
    "    HRP_f_inhi_lm.predict(np.hstack(([0], HRP_f_inhi[:, 0])).reshape(-1, 1)),\n",
    "    f'k-',\n",
    ")\n",
    "\n",
    "axarr.set_xlabel(f'[Prx] ({mu}M)', fontsize=mpl_xlabel_fontsize)\n",
    "axarr.set_ylabel(\n",
    "    '$k\\mathregular{{_{{HRP}}}}$$\\cdot$[HRP]$\\cdot$\\\n",
    "($\\Delta A_{{{max}}}-\\Delta A_{{{obs}}}$)/$\\Delta A_{{{obs}}}$',\n",
    "    fontsize=mpl_ylabel_fontsize,\n",
    ")\n",
    "\n",
    "axarr.set_ylim(bottom=0)\n",
    "axarr.set_xlim(left=0)\n",
    "axarr.legend()\n",
    "\n",
    "f.tight_layout()\n",
    "\n",
    "f.savefig(os.path.join(fig_dir, f'HRP_f-inhi_vs_Prx_{exp_Name}.pdf'), dpi=mpl_dpi)"
   ]
  },
  {
   "cell_type": "code",
   "execution_count": null,
   "id": "68ba0f32-da2f-460c-bbbe-dcd1cc00f515",
   "metadata": {},
   "outputs": [],
   "source": [
    "setattr(mod_finhi_all, 'k_Prx', frac_inhi_whole_kPrx)\n",
    "\n",
    "sim_HRP_traces = []\n",
    "\n",
    "for count, SH_init in enumerate(exp_Prx_initials[1:]):\n",
    "\n",
    "    HRP_trace = do_HRP_trace(\n",
    "        mod_finhi_all,\n",
    "        exp_Prx_initials[1:][count],\n",
    "        time_points=exp_HRP_traces[1:][count][:, 0],\n",
    "    )\n",
    "\n",
    "    sim_HRP_traces.append(HRP_trace)"
   ]
  },
  {
   "cell_type": "code",
   "execution_count": null,
   "id": "b5a0f894-ecb4-4a90-a4a8-369212e05f88",
   "metadata": {},
   "outputs": [],
   "source": [
    "# Plot analysis\n",
    "\n",
    "# Assign data\n",
    "HRP_traces_exp = exp_HRP_traces\n",
    "HRP_traces_sim = sim_HRP_traces\n",
    "\n",
    "# Plot\n",
    "f, axarr = plt.subplots(1, 1)\n",
    "f.set_size_inches(w=mpl_width, h=mpl_height)\n",
    "\n",
    "axarr.plot(HRP_traces_exp[0][:, 0], HRP_traces_exp[0][:, 1], color='dimgrey', label='0')\n",
    "for count, trace in enumerate(HRP_traces_exp[1:]):\n",
    "    axarr.plot(trace[:, 0], trace[:, 1], label=f'{exp_Prx_initials[1:][count]}')\n",
    "\n",
    "axarr.plot(HRP_traces_sim[0][:, 0], HRP_traces_sim[0][:, 1], 'k--')\n",
    "for count, trace in enumerate(HRP_traces_sim[1:]):\n",
    "    axarr.plot(trace[:, 0], trace[:, 1], 'k--')\n",
    "\n",
    "axarr.set_xlabel('Time (s)', fontsize=mpl_xlabel_fontsize)\n",
    "axarr.set_ylabel(f'Absorbance ({exp_Abs_nm} nm)', fontsize=mpl_ylabel_fontsize)\n",
    "axarr.legend(title=f'Prx ({mu}M)', ncols=3, columnspacing=1, loc='upper right')\n",
    "\n",
    "f.tight_layout()\n",
    "\n",
    "f.savefig(\n",
    "    os.path.join(fig_dir, f'HRP_f-inhi_wh-fit_traces_{exp_Name}.pdf'),\n",
    "    dpi=mpl_dpi,\n",
    ")\n",
    "\n",
    "# chi square\n",
    "chi_square_dir_indiv = sum(\n",
    "    (np.vstack(HRP_traces_sim)[:,1]-np.vstack(HRP_traces_exp[1:])[:,1])**2\n",
    ")\n",
    "print(chi_square_dir_indiv)"
   ]
  },
  {
   "cell_type": "markdown",
   "id": "f665f749-fe7d-4b5a-8bd1-38563eb2d900",
   "metadata": {},
   "source": [
    "### Fit to each trace"
   ]
  },
  {
   "cell_type": "code",
   "execution_count": null,
   "id": "253fcd76-e3fc-4bb2-b6bb-c5e304ac5391",
   "metadata": {},
   "outputs": [],
   "source": [
    "mod_finhi_indiv = copy.deepcopy(mod_HRP_Prx)"
   ]
  },
  {
   "cell_type": "code",
   "execution_count": null,
   "id": "44755b16-4905-4283-804d-de617a068a49",
   "metadata": {},
   "outputs": [],
   "source": [
    "frac_inhi_indiv_kPrxs = HRP_f_inhi[:, 1] / HRP_f_inhi[:, 0] - HRP_f_inhi_lm.intercept_\n",
    "print(f'fitted k_Prxs: {frac_inhi_indiv_kPrxs}')"
   ]
  },
  {
   "cell_type": "code",
   "execution_count": null,
   "id": "626bb6ff-bfad-4af8-aad7-c15bb1744954",
   "metadata": {},
   "outputs": [],
   "source": [
    "# Simulate each trace with k_Prx fitted to that trace\n",
    "sim_HRP_traces = []\n",
    "\n",
    "for count, kPrx in enumerate(frac_inhi_indiv_kPrxs):\n",
    "    setattr(mod_finhi_indiv, 'k_Prx', kPrx)\n",
    "\n",
    "    HRP_trace = do_HRP_trace(\n",
    "        mod_finhi_indiv,\n",
    "        exp_Prx_initials[1:][count],\n",
    "        time_points=exp_HRP_traces[1:][count][:, 0],\n",
    "    )\n",
    "\n",
    "    sim_HRP_traces.append(HRP_trace)"
   ]
  },
  {
   "cell_type": "code",
   "execution_count": null,
   "id": "a50eb8b1-74d7-41d3-888c-2c5b1c6a8ae8",
   "metadata": {},
   "outputs": [],
   "source": [
    "# Plot analysis\n",
    "\n",
    "# Assign data\n",
    "HRP_traces_exp = exp_HRP_traces\n",
    "HRP_traces_sim = sim_HRP_traces\n",
    "\n",
    "# Plot\n",
    "f, axarr = plt.subplots(1, 1)\n",
    "f.set_size_inches(w=mpl_width, h=mpl_height)\n",
    "\n",
    "axarr.plot(HRP_traces_exp[0][:, 0], HRP_traces_exp[0][:, 1], color='dimgrey', label='0')\n",
    "for count, trace in enumerate(HRP_traces_exp[1:]):\n",
    "    axarr.plot(trace[:, 0], trace[:, 1], label=f'{exp_Prx_initials[1:][count]}')\n",
    "\n",
    "axarr.plot(HRP_traces_sim[0][:, 0], HRP_traces_sim[0][:, 1], 'k--')\n",
    "for count, trace in enumerate(HRP_traces_sim[1:]):\n",
    "    axarr.plot(trace[:, 0], trace[:, 1], 'k--')\n",
    "\n",
    "axarr.set_xlabel('Time (s)', fontsize=mpl_xlabel_fontsize)\n",
    "axarr.set_ylabel(f'Absorbance ({exp_Abs_nm} nm)', fontsize=mpl_ylabel_fontsize)\n",
    "axarr.legend(title=f'Prx ({mu}M)', ncols=3, columnspacing=1, loc='upper right')\n",
    "\n",
    "f.tight_layout()\n",
    "\n",
    "f.savefig(\n",
    "    os.path.join(fig_dir, f'HRP_f-inhi_ind-fit_traces_{exp_Name}.pdf'),\n",
    "    dpi=mpl_dpi,\n",
    ")\n",
    "\n",
    "# chi square\n",
    "chi_square_dir_indiv = sum(\n",
    "    (np.vstack(HRP_traces_sim)[:,1]-np.vstack(HRP_traces_exp[1:])[:,1])**2\n",
    ")\n",
    "print(chi_square_dir_indiv)"
   ]
  },
  {
   "cell_type": "markdown",
   "id": "1905547f-fa43-4079-8d7c-592dcdf94e2b",
   "metadata": {},
   "source": [
    "## Output to Excel"
   ]
  },
  {
   "cell_type": "code",
   "execution_count": null,
   "id": "dbb76d72-bfaa-44a0-86ea-1fb31e516626",
   "metadata": {},
   "outputs": [],
   "source": [
    "# Styles\n",
    "heading_1 = Font(name='Calibri', size=15, bold=True)\n",
    "heading_2 = Font(name='Calibri', bold=True)\n",
    "shade_1 = PatternFill(start_color='00C0C0C0', end_color='00C0C0C0', fill_type='solid')\n",
    "border_1 = Side(border_style='thin')\n",
    "num_1 = '0.00'\n",
    "num_2 = '0.000'\n",
    "\n",
    "\n",
    "def apply_bottom_border(cells, ws, border_style=border_1):\n",
    "\n",
    "    for cell in cells:\n",
    "        ws[cell].border = Border(bottom=border_style)\n",
    "\n",
    "\n",
    "neg_one_super = '\\u207B\\u00B9'\n",
    "cdot = '\\u00B7'"
   ]
  },
  {
   "cell_type": "code",
   "execution_count": null,
   "id": "d45f7472-99b3-430b-9f8b-45f056b27f65",
   "metadata": {},
   "outputs": [],
   "source": [
    "# Write\n",
    "wb = openpyxl.Workbook()\n",
    "ws = wb.active\n",
    "\n",
    "# Header\n",
    "ws.append(['Analysis of HRP direct fit data'])\n",
    "ws.append([])\n",
    "ws.append(['Exp. name', exp_Name])\n",
    "ws.append(['Data filename', data_file_name])\n",
    "ws['A1'].font = heading_1\n",
    "ws['A3'].font = heading_2\n",
    "ws['A4'].font = heading_2\n",
    "\n",
    "# Date and time\n",
    "ws.append(['Date', datetime.now().date()])\n",
    "ws['A5'].font = heading_2\n",
    "ws.append(['Time', datetime.now().time()])\n",
    "ws['A6'].font = heading_2\n",
    "\n",
    "ws.append([])\n",
    "\n",
    "# Direct fitting rate constants\n",
    "rc = 8\n",
    "ws.append(['Direct fitting'])\n",
    "ws[f'A{rc}'].font = heading_1\n",
    "apply_bottom_border([f'A{rc}', f'B{rc}', f'C{rc}'], ws)\n",
    "\n",
    "rc += 1\n",
    "ws.append(['Trace', f'k (µM{neg_one_super}{cdot}s{neg_one_super})', 'stderr'])\n",
    "ws[f'A{rc}'].font = heading_2\n",
    "ws[f'B{rc}'].font = heading_2\n",
    "ws[f'C{rc}'].font = heading_2\n",
    "apply_bottom_border([f'A{rc}', f'B{rc}', f'C{rc}'], ws)\n",
    "\n",
    "for count, Prx in enumerate(exp_Prx_initials[1:]):\n",
    "    rc += 1\n",
    "    ws.append(\n",
    "        [f'{Prx} µM', direct_fit_indiv_kPrxs[count], direct_fit_indiv_stderr[count]]\n",
    "    )\n",
    "    ws[f'B{rc}'].number_format = num_1\n",
    "    ws[f'C{rc}'].number_format = num_2\n",
    "\n",
    "rc += 1\n",
    "ws.append(['All', direct_fit_whole_kPrx, direct_fit_whole_stderr])\n",
    "ws[f'A{rc}'].font = heading_2\n",
    "ws[f'B{rc}'].fill = shade_1\n",
    "ws[f'C{rc}'].fill = shade_1\n",
    "ws[f'B{rc}'].number_format = num_1\n",
    "ws[f'C{rc}'].number_format = num_2\n",
    "apply_bottom_border([f'A{rc}', f'B{rc}', f'C{rc}'], ws)\n",
    "\n",
    "rc += 1\n",
    "ws.append([])\n",
    "\n",
    "# Fractional inhibition rate constants\n",
    "rc += 1\n",
    "ws.append(['Fractional inhibition'])\n",
    "ws[f'A{rc}'].font = heading_1\n",
    "apply_bottom_border([f'A{rc}', f'B{rc}'], ws)\n",
    "\n",
    "rc += 1\n",
    "ws.append(['Trace', f'k (µM{neg_one_super}{cdot}s{neg_one_super})'])\n",
    "ws[f'A{rc}'].font = heading_2\n",
    "ws[f'B{rc}'].font = heading_2\n",
    "apply_bottom_border([f'A{rc}', f'B{rc}'], ws)\n",
    "\n",
    "for count, Prx in enumerate(exp_Prx_initials[1:]):\n",
    "    rc += 1\n",
    "    ws.append([f'{Prx} µM', frac_inhi_indiv_kPrxs[count]])\n",
    "    ws[f'B{rc}'].number_format = num_1\n",
    "\n",
    "rc += 1\n",
    "ws.append(['All', frac_inhi_whole_kPrx])\n",
    "ws[f'A{rc}'].font = heading_2\n",
    "ws[f'B{rc}'].number_format = num_1\n",
    "ws[f'B{rc}'].fill = shade_1\n",
    "apply_bottom_border([f'A{rc}', f'B{rc}'], ws)\n",
    "\n",
    "dim_holder = DimensionHolder(worksheet=ws)\n",
    "\n",
    "for col in range(ws.min_column, ws.max_column + 1):\n",
    "    dim_holder[get_column_letter(col)] = ColumnDimension(ws, min=col, max=col, width=14)\n",
    "\n",
    "ws.column_dimensions = dim_holder\n",
    "\n",
    "wb.save(os.path.join(data_file_path, f'Analysis_of_{exp_Name}.xlsx'))"
   ]
  },
  {
   "cell_type": "code",
   "execution_count": null,
   "id": "7ac775bb-167e-4a25-b9b1-a1779f8acad8",
   "metadata": {},
   "outputs": [],
   "source": []
  }
 ],
 "metadata": {
  "kernelspec": {
   "display_name": "Python 3 (ipykernel)",
   "language": "python",
   "name": "python3"
  },
  "language_info": {
   "codemirror_mode": {
    "name": "ipython",
    "version": 3
   },
   "file_extension": ".py",
   "mimetype": "text/x-python",
   "name": "python",
   "nbconvert_exporter": "python",
   "pygments_lexer": "ipython3",
   "version": "3.11.5"
  },
  "scenes_data": {
   "active_scene": "Default Scene",
   "init_scene": "",
   "scenes": [
    "Default Scene"
   ]
  },
  "toc": {
   "base_numbering": 1,
   "nav_menu": {},
   "number_sections": true,
   "sideBar": true,
   "skip_h1_title": false,
   "title_cell": "Table of Contents",
   "title_sidebar": "Contents",
   "toc_cell": false,
   "toc_position": {},
   "toc_section_display": true,
   "toc_window_display": true
  }
 },
 "nbformat": 4,
 "nbformat_minor": 5
}
